{
 "cells": [
  {
   "cell_type": "markdown",
   "metadata": {},
   "source": [
    "# Aula 7 - KNN e ferramentas especiais\n",
    "\n",
    "Na aula de hoje, vamos explorar os seguintes tópicos em Python:\n",
    "\n",
    "- 1) KNN\n",
    "- 2) Ferramentas Especiais\n",
    "- 3) KNN para regressão"
   ]
  },
  {
   "cell_type": "markdown",
   "metadata": {},
   "source": [
    "____\n",
    "____\n",
    "____"
   ]
  },
  {
   "cell_type": "markdown",
   "metadata": {},
   "source": [
    "## 1) KNN\n",
    "\n",
    "Hoje conheceremos um novo algoritmo de aprendizagem (que inicialmente veremos no contexto de classificação): o KNN, que é a sigla de **k nearest neighbors**, ou seja, **k vizinhos mais próximos**.\n",
    "\n",
    "A ideia é bem simples: tomamos uma base de treino classificada (supervisionada). \n",
    "\n",
    "A cada observação de teste que queiramos classificar, tomamos **a classe como sendo a classe das $k$ observações que estão mais próximas do elemento a ser classificado**\n",
    "\n",
    "<img src=\"https://res.cloudinary.com/dyd911kmh/image/upload/f_auto,q_auto:best/v1531424125/KNN_final1_ibdm8a.png\" width=600>"
   ]
  },
  {
   "cell_type": "markdown",
   "metadata": {},
   "source": [
    "Este algoritmo é muito simples e intuitivo, mas há dois elementos de extrema importância:\n",
    "\n",
    "> Como medir a **distância** entre dados? Qual é a **métrica** adequada?\n",
    "\n",
    "Veremos que o sklearn nos permite escolher diferentes métricas de distância, o que é ótimo, pois assim podemos seguir a habitual abordagem: testar diferentes métricas, e escolher a que der melhores resultados!\n",
    "\n",
    "> Qual é o número de vizinhos adequados: i.e., **como escolher $k$?**\n",
    "\n",
    "Essa é uma escolha particularmente importante, pois escolhas diferentes de $k$ podem facilmente levar a classificações diferentes:\n",
    "\n",
    "<img src=\"https://helloacm.com/wp-content/uploads/2016/03/2012-10-26-knn-concept.png\" width=400>\n",
    "\n",
    "Veremos logo como escolher bons valores!"
   ]
  },
  {
   "cell_type": "markdown",
   "metadata": {},
   "source": [
    "> **Reflita e responda**: como a escolha de $k$ influencia a performance de generalização do modelo (isto é, seu comportamento no que diz respeito ao trade-off viés-variância)?\n",
    "><br><br>Dica: pense no que acontece nos extremos, $k=1$ e $k=N$, ond $N$ é o número de observações na base de treino."
   ]
  },
  {
   "cell_type": "markdown",
   "metadata": {},
   "source": [
    "Conclusão: \n",
    "\n",
    "- $k=1$ temos alta variância (overfitting - pense nos outliers!).\n",
    "\n",
    "- $k=N$ temos alto viés (underfittinf - não aprendemos nada, só predizemos diretamente a classe majoritária na base de treino)."
   ]
  },
  {
   "cell_type": "markdown",
   "metadata": {},
   "source": [
    "As etapas do algoritmo são as seguintes:\n",
    "\n",
    "1. Recebe um dado não classificado;\n",
    "2. Mede sua distância (Euclidiana, Manhattan, Minkowski ou Ponderada) de cada um dos elementos da base de treino;\n",
    "3. Obtém um *ranking* das distâncias, em ordem decrescente;\n",
    "4. Verifica a classe de cada da um dos *K* dados que tiveram a menor distância e conta a quantidade de cada classe;\n",
    "5. Toma como resultado a classe que mais apareceu dentre os dados que tiveram as menores distâncias;\n",
    "6. Classifica o novo dado com a classe tomada como resultado da classificação."
   ]
  },
  {
   "cell_type": "markdown",
   "metadata": {},
   "source": [
    "KNN é um método LAZY LEARNER -- Ou seja, **não há uma etapa explícita de treinamento**, conforme vimos antes.\n",
    "\n",
    "Cada observação de teste é classificada por vez, segundo o passo a passo acima."
   ]
  },
  {
   "cell_type": "markdown",
   "metadata": {},
   "source": [
    "> **MUITO IMPORTANTE**: sempre devemos **escalar os dados** quando formos construir um modelo KNN! Reflita: por quê?"
   ]
  },
  {
   "cell_type": "code",
   "execution_count": null,
   "metadata": {
    "ExecuteTime": {
     "end_time": "2022-05-13T18:17:37.007268Z",
     "start_time": "2022-05-13T18:17:29.485901Z"
    }
   },
   "outputs": [],
   "source": [
    "# importe as principais bibliotecas\n"
   ]
  },
  {
   "cell_type": "markdown",
   "metadata": {},
   "source": [
    "#### Lendo conjunto de dados\n",
    "\n",
    "Como exemplo vamos utilizar dados de câncer de mama (o dataset que foi sugerido como exercício!), eles estão disponiveis no [UCI](https://archive.ics.uci.edu/ml/datasets/Breast+Cancer+Wisconsin+(Diagnostic)) ou pelo [kaggle](https://www.kaggle.com/uciml/breast-cancer-wisconsin-data). \n",
    "\n",
    "A ideia é que consigamos construir um modelo para classificar, com base em medidas fisiológicas, se um tumor é maligno ou benigno."
   ]
  },
  {
   "cell_type": "code",
   "execution_count": null,
   "metadata": {
    "ExecuteTime": {
     "end_time": "2022-05-13T18:17:37.089596Z",
     "start_time": "2022-05-13T18:17:37.034475Z"
    }
   },
   "outputs": [],
   "source": []
  },
  {
   "cell_type": "code",
   "execution_count": null,
   "metadata": {
    "ExecuteTime": {
     "end_time": "2022-05-13T18:17:42.059465Z",
     "start_time": "2022-05-13T18:17:41.941013Z"
    }
   },
   "outputs": [],
   "source": []
  },
  {
   "cell_type": "code",
   "execution_count": null,
   "metadata": {
    "ExecuteTime": {
     "end_time": "2022-05-13T18:17:48.879399Z",
     "start_time": "2022-05-13T18:17:48.826995Z"
    }
   },
   "outputs": [],
   "source": []
  },
  {
   "cell_type": "markdown",
   "metadata": {},
   "source": [
    "A coluna de ID não dá nenhuma informação relevante: podemos eliminá-la"
   ]
  },
  {
   "cell_type": "code",
   "execution_count": null,
   "metadata": {
    "ExecuteTime": {
     "end_time": "2022-05-13T18:17:50.977645Z",
     "start_time": "2022-05-13T18:17:50.964760Z"
    }
   },
   "outputs": [],
   "source": []
  },
  {
   "cell_type": "code",
   "execution_count": null,
   "metadata": {
    "ExecuteTime": {
     "end_time": "2022-05-13T18:17:52.011871Z",
     "start_time": "2022-05-13T18:17:51.959899Z"
    }
   },
   "outputs": [],
   "source": []
  },
  {
   "cell_type": "code",
   "execution_count": null,
   "metadata": {
    "ExecuteTime": {
     "end_time": "2022-05-13T18:17:52.870053Z",
     "start_time": "2022-05-13T18:17:52.742119Z"
    }
   },
   "outputs": [],
   "source": [
    "# dá pra ver que tem muita diferença de escala nas features! PRECISAMOS NORMALIZAR!!\n",
    "\n"
   ]
  },
  {
   "cell_type": "code",
   "execution_count": null,
   "metadata": {
    "ExecuteTime": {
     "end_time": "2022-05-13T18:17:53.345086Z",
     "start_time": "2022-05-13T18:17:53.329139Z"
    }
   },
   "outputs": [],
   "source": []
  },
  {
   "cell_type": "markdown",
   "metadata": {},
   "source": [
    "Explore os dados! Essa é uma base muito rica, com muitas colunas! Aproveite este exemplo concreto para fazer muitas perguntas e respondê-las! Faça visualizações sempre que achar interessante!\n",
    "\n",
    "Vamos fazer um apenas pra treinar:"
   ]
  },
  {
   "cell_type": "code",
   "execution_count": null,
   "metadata": {
    "ExecuteTime": {
     "end_time": "2022-05-13T18:17:56.661985Z",
     "start_time": "2022-05-13T18:17:55.191092Z"
    }
   },
   "outputs": [],
   "source": []
  },
  {
   "cell_type": "code",
   "execution_count": null,
   "metadata": {
    "ExecuteTime": {
     "end_time": "2022-05-13T18:17:58.119115Z",
     "start_time": "2022-05-13T18:17:57.183447Z"
    }
   },
   "outputs": [],
   "source": []
  },
  {
   "cell_type": "markdown",
   "metadata": {},
   "source": [
    "Uma pergunta é bastante importante:"
   ]
  },
  {
   "cell_type": "code",
   "execution_count": null,
   "metadata": {
    "ExecuteTime": {
     "end_time": "2022-05-13T18:17:59.092191Z",
     "start_time": "2022-05-13T18:17:59.072082Z"
    }
   },
   "outputs": [],
   "source": []
  },
  {
   "cell_type": "code",
   "execution_count": null,
   "metadata": {
    "ExecuteTime": {
     "end_time": "2022-05-13T18:17:59.674815Z",
     "start_time": "2022-05-13T18:17:59.660093Z"
    }
   },
   "outputs": [],
   "source": []
  },
  {
   "cell_type": "code",
   "execution_count": null,
   "metadata": {
    "ExecuteTime": {
     "end_time": "2022-05-13T18:18:00.556184Z",
     "start_time": "2022-05-13T18:18:00.260501Z"
    }
   },
   "outputs": [],
   "source": []
  },
  {
   "cell_type": "code",
   "execution_count": null,
   "metadata": {
    "ExecuteTime": {
     "end_time": "2022-05-13T18:18:01.055868Z",
     "start_time": "2022-05-13T18:18:01.040824Z"
    }
   },
   "outputs": [],
   "source": [
    "# isso equivale a usar o k=n\n",
    "\n"
   ]
  },
  {
   "cell_type": "markdown",
   "metadata": {},
   "source": [
    "Há um leve desbalanceamento: há mais dados de tumores benignos do que malignos. \n",
    "\n",
    "Como o desbalanceamento não é tão gritante assim (coisa de 80-20), e este desbalanço é algo natural, não vamos tratar este caso, vamos deixar para tratar um caso mais crítico.\n",
    "\n",
    "[Clique aqui](https://machinelearningmastery.com/what-is-imbalanced-classification/) para saber um pouco mais sobre desbalanceamento de classes; e [aqui](https://machinelearningmastery.com/tactics-to-combat-imbalanced-classes-in-your-machine-learning-dataset/) caso você queira saber algumas formas de endereçar este problema (spoilers!).\n",
    "\n",
    "Uma coisa importante é sempre setar o parâmetro `stratify` do train-test split, que vai garantir a mesma distribuição do target em ambos os conjuntos de treino e de teste! Isso faz com que a diferença na distribuição não se torne um fator adicional de viés na avaliação do modelo!"
   ]
  },
  {
   "cell_type": "code",
   "execution_count": null,
   "metadata": {
    "ExecuteTime": {
     "end_time": "2022-05-13T18:18:02.699651Z",
     "start_time": "2022-05-13T18:18:02.665087Z"
    }
   },
   "outputs": [],
   "source": []
  },
  {
   "cell_type": "code",
   "execution_count": null,
   "metadata": {
    "ExecuteTime": {
     "end_time": "2022-05-13T18:18:03.742032Z",
     "start_time": "2022-05-13T18:18:03.243010Z"
    }
   },
   "outputs": [],
   "source": []
  },
  {
   "cell_type": "code",
   "execution_count": null,
   "metadata": {
    "ExecuteTime": {
     "end_time": "2022-05-13T18:18:03.834525Z",
     "start_time": "2022-05-13T18:18:03.818173Z"
    }
   },
   "outputs": [],
   "source": []
  },
  {
   "cell_type": "code",
   "execution_count": null,
   "metadata": {
    "ExecuteTime": {
     "end_time": "2022-05-13T18:18:04.374124Z",
     "start_time": "2022-05-13T18:18:04.348459Z"
    }
   },
   "outputs": [],
   "source": [
    "# atenção ao stratify!\n"
   ]
  },
  {
   "cell_type": "code",
   "execution_count": null,
   "metadata": {
    "ExecuteTime": {
     "end_time": "2022-05-13T18:18:05.085527Z",
     "start_time": "2022-05-13T18:18:05.069228Z"
    }
   },
   "outputs": [],
   "source": []
  },
  {
   "cell_type": "code",
   "execution_count": null,
   "metadata": {
    "ExecuteTime": {
     "end_time": "2022-05-13T18:18:05.640743Z",
     "start_time": "2022-05-13T18:18:05.622001Z"
    }
   },
   "outputs": [],
   "source": []
  },
  {
   "cell_type": "markdown",
   "metadata": {},
   "source": [
    "_____\n",
    "\n",
    "**Transformando os dados**\n",
    "\n",
    "O primeiro processo que pode ser feito para tunning do KNN é a **transformação das features**. \n",
    "\n",
    "Devido ao KNN utilizar **distâncias** como critério para classificação, ter as variaveis transformadas garante que sejam eliminados viéses relacionados à escala dos dados.\n",
    "\n",
    "Para **normalizar os dados**, o sklearn nos apresenta a ferramenta [standard scaler](https://scikit-learn.org/stable/modules/generated/sklearn.preprocessing.StandardScaler.html)"
   ]
  },
  {
   "cell_type": "markdown",
   "metadata": {},
   "source": [
    "É **muito importante** que os transformers sejam fitados **com os dados de treino**, para que informações da base de teste não sejam utilizadas no treinamento (conceito conhecido como [data leakage](https://machinelearningmastery.com/data-preparation-without-data-leakage/)).\n",
    "\n",
    "No caso do standard scaler: o objetivo do `.fit()` é determinar a média $\\mu$ e desvio padrão $\\sigma$ dos dados, para que a normalização seja feita. Se calcularmos estes parâmetros usando **todos os dados**, estamos utilizando informações da base de teste -- o que, como sabemos, jamais deve ser feito!!\n",
    "\n",
    "Por isso, sempre siga o seguinte passo-a-passo par aplicação de transformers:\n",
    "\n",
    "- Primeiro, faça o train test split;\n",
    "- Use o `.fit()` nos dados de **treino**;\n",
    "- Use o `.transform()` pra trasnformar os dados de treino e de teste tbm -- com o **mesmo transformer treinado** com os dados de treino;"
   ]
  },
  {
   "cell_type": "markdown",
   "metadata": {},
   "source": [
    "Começaremos com o  [standard scaler](https://scikit-learn.org/stable/modules/generated/sklearn.preprocessing.StandardScaler.html) - **média 0 e std 1**"
   ]
  },
  {
   "cell_type": "code",
   "execution_count": null,
   "metadata": {
    "ExecuteTime": {
     "end_time": "2022-05-13T18:18:10.323161Z",
     "start_time": "2022-05-13T18:18:10.292251Z"
    }
   },
   "outputs": [],
   "source": []
  },
  {
   "cell_type": "code",
   "execution_count": null,
   "metadata": {
    "ExecuteTime": {
     "end_time": "2022-05-13T18:18:10.910558Z",
     "start_time": "2022-05-13T18:18:10.782263Z"
    }
   },
   "outputs": [],
   "source": []
  },
  {
   "cell_type": "code",
   "execution_count": null,
   "metadata": {
    "ExecuteTime": {
     "end_time": "2022-05-13T18:18:11.603733Z",
     "start_time": "2022-05-13T18:18:11.352390Z"
    }
   },
   "outputs": [],
   "source": [
    "# tivemos que transformar num dataframe, pq o std scaler retorna arrays do numpy, que não têm o metodo describe\n",
    "\n"
   ]
  },
  {
   "cell_type": "markdown",
   "metadata": {},
   "source": [
    "De fato, após o scaling, temos média zero e desvio padrão 1!"
   ]
  },
  {
   "cell_type": "code",
   "execution_count": null,
   "metadata": {
    "ExecuteTime": {
     "end_time": "2022-05-13T18:18:12.555140Z",
     "start_time": "2022-05-13T18:18:12.541698Z"
    }
   },
   "outputs": [],
   "source": []
  },
  {
   "cell_type": "code",
   "execution_count": null,
   "metadata": {
    "ExecuteTime": {
     "end_time": "2022-05-13T18:18:13.071953Z",
     "start_time": "2022-05-13T18:18:13.054038Z"
    }
   },
   "outputs": [],
   "source": []
  },
  {
   "cell_type": "code",
   "execution_count": null,
   "metadata": {
    "ExecuteTime": {
     "end_time": "2022-05-13T18:18:13.602626Z",
     "start_time": "2022-05-13T18:18:13.581874Z"
    }
   },
   "outputs": [],
   "source": [
    "# tbm podemos aplicar a transformação inversa\n"
   ]
  },
  {
   "cell_type": "markdown",
   "metadata": {},
   "source": [
    "Outra opção é transformar os dados com o [min max scaler](https://scikit-learn.org/stable/modules/generated/sklearn.preprocessing.MinMaxScaler.html) - **deixa o espaço amostral entre 0 e 1**\n",
    "\n",
    "Aqui, as mesmas considerações sobre o método `.fit()` são válidas! (E pra qualquer outro transformer)"
   ]
  },
  {
   "cell_type": "code",
   "execution_count": null,
   "metadata": {
    "ExecuteTime": {
     "end_time": "2022-05-13T18:18:14.555194Z",
     "start_time": "2022-05-13T18:18:14.523614Z"
    }
   },
   "outputs": [],
   "source": []
  },
  {
   "cell_type": "code",
   "execution_count": null,
   "metadata": {
    "ExecuteTime": {
     "end_time": "2022-05-13T18:18:15.138291Z",
     "start_time": "2022-05-13T18:18:15.014575Z"
    }
   },
   "outputs": [],
   "source": []
  },
  {
   "cell_type": "code",
   "execution_count": null,
   "metadata": {
    "ExecuteTime": {
     "end_time": "2022-05-13T18:18:15.609462Z",
     "start_time": "2022-05-13T18:18:15.462596Z"
    }
   },
   "outputs": [],
   "source": []
  },
  {
   "cell_type": "code",
   "execution_count": null,
   "metadata": {
    "ExecuteTime": {
     "end_time": "2022-05-13T18:18:15.993045Z",
     "start_time": "2022-05-13T18:18:15.880975Z"
    }
   },
   "outputs": [],
   "source": []
  },
  {
   "cell_type": "markdown",
   "metadata": {},
   "source": [
    "Podemos testar também o [RobustScaler](https://scikit-learn.org/stable/modules/generated/sklearn.preprocessing.RobustScaler.html):"
   ]
  },
  {
   "cell_type": "code",
   "execution_count": null,
   "metadata": {
    "ExecuteTime": {
     "end_time": "2022-05-13T18:18:17.013240Z",
     "start_time": "2022-05-13T18:18:16.980629Z"
    }
   },
   "outputs": [],
   "source": []
  },
  {
   "cell_type": "code",
   "execution_count": null,
   "metadata": {
    "ExecuteTime": {
     "end_time": "2022-05-13T18:18:17.638972Z",
     "start_time": "2022-05-13T18:18:17.411714Z"
    }
   },
   "outputs": [],
   "source": []
  },
  {
   "cell_type": "code",
   "execution_count": null,
   "metadata": {
    "ExecuteTime": {
     "end_time": "2022-05-13T18:18:18.207665Z",
     "start_time": "2022-05-13T18:18:18.001297Z"
    }
   },
   "outputs": [],
   "source": []
  },
  {
   "cell_type": "markdown",
   "metadata": {},
   "source": [
    "Agora sim, estamos prontos para treinar e avaliar o modelo, com as features escaladas!\n",
    "\n",
    "Classe: [KNeighborsClassifier](https://scikit-learn.org/stable/modules/generated/sklearn.neighbors.KNeighborsClassifier.html)"
   ]
  },
  {
   "cell_type": "code",
   "execution_count": null,
   "metadata": {
    "ExecuteTime": {
     "end_time": "2022-05-13T18:18:20.408991Z",
     "start_time": "2022-05-13T18:18:19.164631Z"
    }
   },
   "outputs": [],
   "source": []
  },
  {
   "cell_type": "markdown",
   "metadata": {},
   "source": [
    "Entendendo a classificação"
   ]
  },
  {
   "cell_type": "code",
   "execution_count": null,
   "metadata": {
    "ExecuteTime": {
     "end_time": "2022-05-13T18:18:20.763089Z",
     "start_time": "2022-05-13T18:18:20.752798Z"
    }
   },
   "outputs": [],
   "source": []
  },
  {
   "cell_type": "code",
   "execution_count": null,
   "metadata": {
    "ExecuteTime": {
     "end_time": "2022-05-13T18:18:21.206947Z",
     "start_time": "2022-05-13T18:18:21.193714Z"
    }
   },
   "outputs": [],
   "source": []
  },
  {
   "cell_type": "code",
   "execution_count": null,
   "metadata": {
    "ExecuteTime": {
     "end_time": "2022-05-13T18:18:21.733097Z",
     "start_time": "2022-05-13T18:18:21.713636Z"
    }
   },
   "outputs": [],
   "source": []
  },
  {
   "cell_type": "code",
   "execution_count": null,
   "metadata": {
    "ExecuteTime": {
     "end_time": "2022-05-13T18:18:22.288603Z",
     "start_time": "2022-05-13T18:18:22.246741Z"
    }
   },
   "outputs": [],
   "source": []
  },
  {
   "cell_type": "code",
   "execution_count": null,
   "metadata": {
    "ExecuteTime": {
     "end_time": "2022-05-13T18:18:22.760809Z",
     "start_time": "2022-05-13T18:18:22.744858Z"
    }
   },
   "outputs": [],
   "source": []
  },
  {
   "cell_type": "markdown",
   "metadata": {},
   "source": [
    "__________\n",
    "\n",
    "Vamos fazer também a validação cruzada!\n",
    "\n",
    "Mas uma importante alteração é necessária... Se fizermos como antes, usando o target original diretamente:\n",
    "\n",
    "```python\n",
    "from sklearn.model_selection import KFold, cross_validate\n",
    "\n",
    "grupo = KFold(n_splits=10, shuffle=True, random_state=42)\n",
    "\n",
    "metrica = \"f1\"\n",
    "\n",
    "results = cross_validate(estimator=estimador,\n",
    "                         X=X_train, y=y_train,\n",
    "                         cv=grupo,\n",
    "                         scoring=metrica,\n",
    "                         return_train_score=True)\n",
    "```\n",
    "Teremos um erro (teste!)"
   ]
  },
  {
   "cell_type": "code",
   "execution_count": null,
   "metadata": {
    "ExecuteTime": {
     "end_time": "2022-05-13T18:18:24.524274Z",
     "start_time": "2022-05-13T18:18:24.509581Z"
    }
   },
   "outputs": [],
   "source": []
  },
  {
   "cell_type": "code",
   "execution_count": null,
   "metadata": {
    "ExecuteTime": {
     "end_time": "2022-05-13T18:18:26.218237Z",
     "start_time": "2022-05-13T18:18:25.259386Z"
    }
   },
   "outputs": [],
   "source": []
  },
  {
   "cell_type": "markdown",
   "metadata": {},
   "source": [
    "Não há problema algum em utilizar as classes originais quando deseja-se avaliar o modelo final com a matriz de confusão ou o classification_report. Internamente, é feita um mapeamento pra 0 e 1.\n",
    "\n",
    "Mas, pra usar o cross_validate, este mapa não é feito. Daí, é necessário que seja explicitamente indicada este mapeamento. Pra fazer isso, há duas opções:\n",
    "\n",
    "- 1 - Fazer o mapeamento explicitamente e depois usar o código extamente como acima;\n",
    "- 2 - Indicar qual é a classe positiva (valor 1) na hora de indicar a métrica a ser calculada -- mas pra isso, a função respectiva da métrica deve ser usada, junto com o argumento `pos_label`\n",
    "\n",
    "Vejamos ambas as opções:"
   ]
  },
  {
   "cell_type": "code",
   "execution_count": null,
   "metadata": {
    "ExecuteTime": {
     "end_time": "2022-05-13T18:18:45.219802Z",
     "start_time": "2022-05-13T18:18:45.190116Z"
    }
   },
   "outputs": [],
   "source": []
  },
  {
   "cell_type": "code",
   "execution_count": null,
   "metadata": {
    "ExecuteTime": {
     "end_time": "2022-05-13T18:18:46.364060Z",
     "start_time": "2022-05-13T18:18:45.718167Z"
    }
   },
   "outputs": [],
   "source": []
  },
  {
   "cell_type": "markdown",
   "metadata": {},
   "source": [
    "Segunda forma, só indicando o que é a classe positiva:"
   ]
  },
  {
   "cell_type": "code",
   "execution_count": null,
   "metadata": {
    "ExecuteTime": {
     "end_time": "2022-05-13T18:18:47.795324Z",
     "start_time": "2022-05-13T18:18:46.934922Z"
    }
   },
   "outputs": [],
   "source": []
  },
  {
   "cell_type": "markdown",
   "metadata": {},
   "source": [
    "Discutimos que o recall da classe \"M\" é o que queremos otimizar. Então, vamos, antes de tudo, fazer a CV pra essa métrica:"
   ]
  },
  {
   "cell_type": "code",
   "execution_count": null,
   "metadata": {
    "ExecuteTime": {
     "end_time": "2022-05-13T18:18:48.959951Z",
     "start_time": "2022-05-13T18:18:48.067806Z"
    }
   },
   "outputs": [],
   "source": []
  },
  {
   "cell_type": "code",
   "execution_count": null,
   "metadata": {
    "ExecuteTime": {
     "end_time": "2022-05-13T18:18:49.249162Z",
     "start_time": "2022-05-13T18:18:49.213839Z"
    }
   },
   "outputs": [],
   "source": []
  },
  {
   "cell_type": "code",
   "execution_count": null,
   "metadata": {
    "ExecuteTime": {
     "end_time": "2022-05-13T18:18:49.411624Z",
     "start_time": "2022-05-13T18:18:49.371800Z"
    }
   },
   "outputs": [],
   "source": []
  },
  {
   "cell_type": "markdown",
   "metadata": {},
   "source": [
    "O modelo não teve uma performance muito ruim, mas podemos melhorar! Afinal, um modelo de tamanha importância não pode ter uma margem de erro muito grande, não é mesmo?\n",
    "\n",
    "Vamos iniciar o ciclo de melhorias para ver se conseguimos melhorar a performance do modelo, em um processo que é muitas vezes chamado de **tunning**\n"
   ]
  },
  {
   "cell_type": "markdown",
   "metadata": {},
   "source": [
    "**Novamente:** treine os scalers **apenas nos dados de treino** para evitar que informação dos dados de teste sejam passadas para o scaler! (Mais informações [aqui](https://datascience.stackexchange.com/questions/38395/standardscaler-before-and-after-splitting-data))"
   ]
  },
  {
   "cell_type": "markdown",
   "metadata": {},
   "source": [
    "Observe como a performance do modelo mudou!\n",
    "\n",
    "Mas será que é possível melhorar ainda mais? Vamos agora aprender como é possível testar diferentes parâmetros de uma única vez!"
   ]
  },
  {
   "cell_type": "markdown",
   "metadata": {},
   "source": [
    "____\n",
    "____\n",
    "____"
   ]
  },
  {
   "cell_type": "markdown",
   "metadata": {},
   "source": [
    "## 2) Ferramentas especiais\n",
    "\n",
    "Vamos agora ver algumas ferramentas especiais do sklearn que nos ajudam no desenvolvimento de modelos!"
   ]
  },
  {
   "cell_type": "markdown",
   "metadata": {},
   "source": [
    "### Pipeline\n",
    "\n",
    "O [Pipeline](https://scikit-learn.org/stable/modules/generated/sklearn.pipeline.Pipeline.html) é uma estrutura que o sklearn proporciona a fim de garantir que possamos em uma única estrutura passar **o estimador e o transformador** (e muitas outras coisas). Para maiores informações, [clique aqui](https://scikit-learn.org/stable/modules/compose.html#pipeline). \n",
    "\n",
    "Vamos ver a seguir como esta estrutura funciona:"
   ]
  },
  {
   "cell_type": "code",
   "execution_count": null,
   "metadata": {
    "ExecuteTime": {
     "end_time": "2022-05-13T18:18:55.377749Z",
     "start_time": "2022-05-13T18:18:55.363266Z"
    }
   },
   "outputs": [],
   "source": []
  },
  {
   "cell_type": "markdown",
   "metadata": {},
   "source": [
    "**Para o train-test split normal**"
   ]
  },
  {
   "cell_type": "code",
   "execution_count": null,
   "metadata": {
    "ExecuteTime": {
     "end_time": "2022-05-13T18:18:57.379230Z",
     "start_time": "2022-05-13T18:18:56.637352Z"
    }
   },
   "outputs": [],
   "source": []
  },
  {
   "cell_type": "markdown",
   "metadata": {},
   "source": [
    "**Para a validação cruzada**\n",
    "\n",
    "Isso resolve o problema que tivemos na última aula de vazamento de dados na validação cruzada!"
   ]
  },
  {
   "cell_type": "code",
   "execution_count": null,
   "metadata": {
    "ExecuteTime": {
     "end_time": "2022-05-13T18:18:58.771002Z",
     "start_time": "2022-05-13T18:18:57.923069Z"
    }
   },
   "outputs": [],
   "source": []
  },
  {
   "cell_type": "code",
   "execution_count": null,
   "metadata": {
    "ExecuteTime": {
     "end_time": "2022-05-13T18:18:59.052098Z",
     "start_time": "2022-05-13T18:18:59.021099Z"
    }
   },
   "outputs": [],
   "source": []
  },
  {
   "cell_type": "code",
   "execution_count": null,
   "metadata": {
    "ExecuteTime": {
     "end_time": "2022-05-13T18:18:59.341114Z",
     "start_time": "2022-05-13T18:18:59.288896Z"
    }
   },
   "outputs": [],
   "source": [
    "# com isso, resolvemos os problemas que tínhamos anteriormente de vazamento \n",
    "# de dados no crossvalidation! essa distribuição é bem mais confiável!!\n"
   ]
  },
  {
   "cell_type": "markdown",
   "metadata": {},
   "source": [
    "Uma boa ideia é usar o [StratifiedKFold](https://scikit-learn.org/stable/modules/generated/sklearn.model_selection.StratifiedKFold.html), pois ele mantém a estratificação do target dentro de cada split!\n",
    "\n",
    "Isso é sobretudo importante pra dados desbalanceados (no target)"
   ]
  },
  {
   "cell_type": "code",
   "execution_count": null,
   "metadata": {
    "ExecuteTime": {
     "end_time": "2022-05-13T18:19:00.329192Z",
     "start_time": "2022-05-13T18:19:00.321117Z"
    }
   },
   "outputs": [],
   "source": []
  },
  {
   "cell_type": "code",
   "execution_count": null,
   "metadata": {
    "ExecuteTime": {
     "end_time": "2022-05-13T18:19:01.736475Z",
     "start_time": "2022-05-13T18:19:00.837415Z"
    }
   },
   "outputs": [],
   "source": []
  },
  {
   "cell_type": "code",
   "execution_count": null,
   "metadata": {
    "ExecuteTime": {
     "end_time": "2022-05-13T18:19:01.989811Z",
     "start_time": "2022-05-13T18:19:01.946046Z"
    }
   },
   "outputs": [],
   "source": []
  },
  {
   "cell_type": "markdown",
   "metadata": {},
   "source": [
    "______"
   ]
  },
  {
   "cell_type": "markdown",
   "metadata": {},
   "source": [
    "### Gridsearch\n",
    "\n",
    "O [Gridsearch](https://scikit-learn.org/stable/modules/generated/sklearn.model_selection.GridSearchCV.html) é uma estrutura que o sklearn proporciona para que seja feita **a busca exaustiva de hiperparâmetros de um estimador**.\n",
    "\n",
    "Na prática, o que o gridsearch faz é **treinar diversos modelos com diferentes combinações de hiperparâmetros**, de modo a manter o melhor deles como o modelo final, tudo automaticamente! \n",
    "\n",
    "Tudo o que precisamos fazer é indicar quais os hiperparâmetros que queremos procurar: a **grade**!\n",
    "\n",
    "<img src=\"https://www.yourdatateacher.com/wp-content/uploads/2021/03/image-6.png\" width=500>"
   ]
  },
  {
   "cell_type": "markdown",
   "metadata": {},
   "source": [
    "É muito comum também passarmos o **Pipeline** como argumento do gridsearch!\n",
    "\n",
    "Para maiores informações, [clique aqui](https://scikit-learn.org/stable/modules/grid_search.html#grid-search). \n",
    "\n",
    "Vamos ver a seguir como esta estrutura funciona:"
   ]
  },
  {
   "cell_type": "markdown",
   "metadata": {},
   "source": [
    "O Gridsearch avalia o melhor modelo segundo a métrica que passamos em `scoring`. [Clique aqui](https://scikit-learn.org/stable/modules/model_evaluation.html#scoring-parameter) para ver as métricas disponíveis por padrão.\n",
    "\n",
    "Mas o GS vai além: ele não calcula a métrica uma única vez, mas sim **várias vezes**, conforme especificado pelo parâmetro `cv`. No fim, o melhor modelo é o que tem o melhor scoring **médio** entre as vezes que é calculado.\n",
    "\n",
    "O \"cv\" quer dizer **Cross Validation**, o método mais seguro de realizar um treinamento e avaliação de um modelo que conhecemos na aula passada!\n",
    "\n",
    "<img src=\"https://ethen8181.github.io/machine-learning/model_selection/img/kfolds.png\" width=600> "
   ]
  },
  {
   "cell_type": "markdown",
   "metadata": {},
   "source": [
    "Com a validação cruzada, garantimos uma avaliação justa de cada um dos modelos candidatos (cada um construído com uma combinação diferente de hiperparâmetros).\n",
    "\n",
    "Assim, sabemos que a melhor combinação de hiperparâmetros a ser encontrada não estará de qualquer forma \"overfitada\" em particularidades da base de treino!"
   ]
  },
  {
   "cell_type": "markdown",
   "metadata": {},
   "source": [
    "Vamos colocar tudo em uma única célula:"
   ]
  },
  {
   "cell_type": "code",
   "execution_count": null,
   "metadata": {
    "ExecuteTime": {
     "end_time": "2022-05-13T18:19:06.651702Z",
     "start_time": "2022-05-13T18:19:06.643565Z"
    }
   },
   "outputs": [],
   "source": []
  },
  {
   "cell_type": "code",
   "execution_count": null,
   "metadata": {
    "ExecuteTime": {
     "end_time": "2022-05-13T18:19:07.214478Z",
     "start_time": "2022-05-13T18:19:07.198691Z"
    }
   },
   "outputs": [],
   "source": []
  },
  {
   "cell_type": "code",
   "execution_count": null,
   "metadata": {
    "ExecuteTime": {
     "end_time": "2022-05-13T18:19:25.497158Z",
     "start_time": "2022-05-13T18:19:07.739692Z"
    },
    "scrolled": true
   },
   "outputs": [],
   "source": []
  },
  {
   "cell_type": "code",
   "execution_count": null,
   "metadata": {
    "ExecuteTime": {
     "end_time": "2022-05-13T18:19:25.710728Z",
     "start_time": "2022-05-13T18:19:25.691595Z"
    }
   },
   "outputs": [],
   "source": []
  },
  {
   "cell_type": "markdown",
   "metadata": {},
   "source": [
    "O GS treinado tem diversos atributos super úteis e interessantes! Vamos dar uma olhada neles:"
   ]
  },
  {
   "cell_type": "markdown",
   "metadata": {},
   "source": [
    "`.best_estimator_`: retorna quais as escolhas do Pipeline que produziram o melhor modelo. No que diz respeito ao modelo, temos exatamente quais os parâmetros escolhidos!"
   ]
  },
  {
   "cell_type": "code",
   "execution_count": null,
   "metadata": {
    "ExecuteTime": {
     "end_time": "2022-05-13T18:19:25.869539Z",
     "start_time": "2022-05-13T18:19:25.848275Z"
    }
   },
   "outputs": [],
   "source": []
  },
  {
   "cell_type": "markdown",
   "metadata": {},
   "source": [
    "`.best_params_`: retorna os parâmetros testados na grade que produziram o melhor modelo."
   ]
  },
  {
   "cell_type": "code",
   "execution_count": null,
   "metadata": {
    "ExecuteTime": {
     "end_time": "2022-05-13T18:19:26.069013Z",
     "start_time": "2022-05-13T18:19:26.056413Z"
    }
   },
   "outputs": [],
   "source": []
  },
  {
   "cell_type": "markdown",
   "metadata": {},
   "source": [
    "`.best_score_`: retorna a **média cross-validada da métrica de interesse** do melhor modelo. Como esse é o valor médio construído usando CV, este é estatisticamente o valor mais realístico a ser atribuído à performance do modelo!"
   ]
  },
  {
   "cell_type": "code",
   "execution_count": null,
   "metadata": {
    "ExecuteTime": {
     "end_time": "2022-05-13T18:19:26.244147Z",
     "start_time": "2022-05-13T18:19:26.226073Z"
    }
   },
   "outputs": [],
   "source": []
  },
  {
   "cell_type": "markdown",
   "metadata": {},
   "source": [
    "`.cv_results_`: diversas informações do processo feito pelo GS"
   ]
  },
  {
   "cell_type": "code",
   "execution_count": null,
   "metadata": {
    "ExecuteTime": {
     "end_time": "2022-05-13T18:19:26.435006Z",
     "start_time": "2022-05-13T18:19:26.398113Z"
    }
   },
   "outputs": [],
   "source": []
  },
  {
   "cell_type": "code",
   "execution_count": null,
   "metadata": {
    "ExecuteTime": {
     "end_time": "2022-05-13T18:19:26.573051Z",
     "start_time": "2022-05-13T18:19:26.555277Z"
    }
   },
   "outputs": [],
   "source": [
    "# dataframe, onde cada linha é uma combinação de hps da grade\n"
   ]
  },
  {
   "cell_type": "code",
   "execution_count": null,
   "metadata": {
    "ExecuteTime": {
     "end_time": "2022-05-13T18:19:26.739310Z",
     "start_time": "2022-05-13T18:19:26.723640Z"
    }
   },
   "outputs": [],
   "source": []
  },
  {
   "cell_type": "code",
   "execution_count": null,
   "metadata": {
    "ExecuteTime": {
     "end_time": "2022-05-13T18:19:26.986003Z",
     "start_time": "2022-05-13T18:19:26.905860Z"
    }
   },
   "outputs": [],
   "source": []
  },
  {
   "cell_type": "markdown",
   "metadata": {},
   "source": [
    "____________"
   ]
  },
  {
   "cell_type": "markdown",
   "metadata": {},
   "source": [
    "Agora, com duas métricas:"
   ]
  },
  {
   "cell_type": "code",
   "execution_count": null,
   "metadata": {
    "ExecuteTime": {
     "end_time": "2022-05-13T18:19:48.936679Z",
     "start_time": "2022-05-13T18:19:27.165280Z"
    },
    "scrolled": true
   },
   "outputs": [],
   "source": []
  },
  {
   "cell_type": "code",
   "execution_count": null,
   "metadata": {
    "ExecuteTime": {
     "end_time": "2022-05-13T18:19:49.145657Z",
     "start_time": "2022-05-13T18:19:49.130371Z"
    }
   },
   "outputs": [],
   "source": []
  },
  {
   "cell_type": "code",
   "execution_count": null,
   "metadata": {
    "ExecuteTime": {
     "end_time": "2022-05-13T18:19:49.396160Z",
     "start_time": "2022-05-13T18:19:49.377352Z"
    }
   },
   "outputs": [],
   "source": []
  },
  {
   "cell_type": "code",
   "execution_count": null,
   "metadata": {
    "ExecuteTime": {
     "end_time": "2022-05-13T18:19:49.679096Z",
     "start_time": "2022-05-13T18:19:49.617232Z"
    }
   },
   "outputs": [],
   "source": []
  },
  {
   "cell_type": "markdown",
   "metadata": {},
   "source": [
    "Podemos mudar a métrica segundo a qual otimizaremos os hiperparâmetros!"
   ]
  },
  {
   "cell_type": "code",
   "execution_count": null,
   "metadata": {
    "ExecuteTime": {
     "end_time": "2022-05-13T18:20:08.842105Z",
     "start_time": "2022-05-13T18:19:49.889913Z"
    }
   },
   "outputs": [],
   "source": []
  },
  {
   "cell_type": "code",
   "execution_count": null,
   "metadata": {
    "ExecuteTime": {
     "end_time": "2022-05-13T18:20:09.074257Z",
     "start_time": "2022-05-13T18:20:09.057324Z"
    }
   },
   "outputs": [],
   "source": []
  },
  {
   "cell_type": "code",
   "execution_count": null,
   "metadata": {
    "ExecuteTime": {
     "end_time": "2022-05-13T18:20:09.311450Z",
     "start_time": "2022-05-13T18:20:09.273866Z"
    }
   },
   "outputs": [],
   "source": []
  },
  {
   "cell_type": "markdown",
   "metadata": {},
   "source": [
    "Aora sim, podemos avaliar a generalização final (base de teste)"
   ]
  },
  {
   "cell_type": "code",
   "execution_count": null,
   "metadata": {
    "ExecuteTime": {
     "end_time": "2022-05-13T18:20:10.498467Z",
     "start_time": "2022-05-13T18:20:09.510842Z"
    }
   },
   "outputs": [],
   "source": []
  },
  {
   "cell_type": "markdown",
   "metadata": {},
   "source": [
    "Voltando pro recall:"
   ]
  },
  {
   "cell_type": "code",
   "execution_count": null,
   "metadata": {
    "ExecuteTime": {
     "end_time": "2022-05-13T18:20:29.496118Z",
     "start_time": "2022-05-13T18:20:10.816403Z"
    }
   },
   "outputs": [],
   "source": []
  },
  {
   "cell_type": "code",
   "execution_count": null,
   "metadata": {
    "ExecuteTime": {
     "end_time": "2022-05-13T18:20:30.661550Z",
     "start_time": "2022-05-13T18:20:29.873068Z"
    }
   },
   "outputs": [],
   "source": []
  },
  {
   "cell_type": "markdown",
   "metadata": {},
   "source": [
    "________\n",
    "_______\n",
    "______\n",
    "\n",
    "Sua vez! Faça agora uma estrutura de Pipeline + GS para o Logit, e depois compare o melhor logit com o melhor knn. Qual é o melhor modelo final?"
   ]
  },
  {
   "cell_type": "code",
   "execution_count": null,
   "metadata": {},
   "outputs": [],
   "source": [
    "# pra casa\n",
    "# teste l1, l2 e elastic net!!"
   ]
  },
  {
   "cell_type": "markdown",
   "metadata": {},
   "source": [
    "____\n",
    "____\n",
    "____"
   ]
  },
  {
   "cell_type": "markdown",
   "metadata": {},
   "source": [
    "## 3) KNN para regressão\n",
    "\n",
    "O KNN é nosso primeiro exemplo de algoritmo que pode ser utilizado para ambos os problemas de classificação e regressão!\n",
    "\n",
    "A ideia é bem simples: o target atribuído a uma nova observação é igual à **média do target das $k$ observações mais próximas**\n",
    "\n",
    "<img src=\"https://bookdown.org/f100441618/bookdown-regresion/www/KNN.jpg\" width=500>\n",
    "\n",
    "Naturalmente, também para regressão o parâmetro $k$ e a métrica de distância são hiperparâmetros importantes:\n",
    "\n",
    "<img src=\"https://i.stack.imgur.com/gAILq.png\" width=500>\n",
    "\n",
    "A classe no sklearn é a [KNeighborsRegressor](https://scikit-learn.org/stable/modules/generated/sklearn.neighbors.KNeighborsRegressor.html). Dê uma olhada no User Guide e também no [RadiusNeighborsRegressor!](https://scikit-learn.org/stable/modules/generated/sklearn.neighbors.RadiusNeighborsRegressor.html#sklearn.neighbors.RadiusNeighborsRegressor)"
   ]
  },
  {
   "cell_type": "code",
   "execution_count": null,
   "metadata": {
    "ExecuteTime": {
     "end_time": "2022-05-13T18:20:52.918015Z",
     "start_time": "2022-05-13T18:20:52.898442Z"
    }
   },
   "outputs": [],
   "source": []
  },
  {
   "cell_type": "code",
   "execution_count": null,
   "metadata": {
    "ExecuteTime": {
     "end_time": "2022-05-13T18:20:53.486593Z",
     "start_time": "2022-05-13T18:20:53.414848Z"
    }
   },
   "outputs": [],
   "source": []
  },
  {
   "cell_type": "code",
   "execution_count": null,
   "metadata": {
    "ExecuteTime": {
     "end_time": "2022-05-13T18:21:12.567908Z",
     "start_time": "2022-05-13T18:20:54.040094Z"
    },
    "scrolled": true
   },
   "outputs": [],
   "source": []
  },
  {
   "cell_type": "code",
   "execution_count": null,
   "metadata": {
    "ExecuteTime": {
     "end_time": "2022-05-13T18:21:12.808206Z",
     "start_time": "2022-05-13T18:21:12.795675Z"
    }
   },
   "outputs": [],
   "source": []
  },
  {
   "cell_type": "code",
   "execution_count": null,
   "metadata": {
    "ExecuteTime": {
     "end_time": "2022-05-13T18:21:13.056697Z",
     "start_time": "2022-05-13T18:21:13.035453Z"
    }
   },
   "outputs": [],
   "source": []
  },
  {
   "cell_type": "code",
   "execution_count": null,
   "metadata": {
    "ExecuteTime": {
     "end_time": "2022-05-13T18:21:13.417832Z",
     "start_time": "2022-05-13T18:21:13.273245Z"
    }
   },
   "outputs": [],
   "source": []
  },
  {
   "cell_type": "markdown",
   "metadata": {},
   "source": [
    "Limitando o k, pra fugir de overfitting"
   ]
  },
  {
   "cell_type": "code",
   "execution_count": null,
   "metadata": {
    "ExecuteTime": {
     "end_time": "2022-05-13T18:21:39.733528Z",
     "start_time": "2022-05-13T18:21:13.655852Z"
    },
    "scrolled": true
   },
   "outputs": [],
   "source": []
  },
  {
   "cell_type": "code",
   "execution_count": null,
   "metadata": {
    "ExecuteTime": {
     "end_time": "2022-05-13T18:21:40.270047Z",
     "start_time": "2022-05-13T18:21:40.083157Z"
    }
   },
   "outputs": [],
   "source": []
  },
  {
   "cell_type": "code",
   "execution_count": null,
   "metadata": {},
   "outputs": [],
   "source": []
  }
 ],
 "metadata": {
  "kernelspec": {
   "display_name": "Python 3 (ipykernel)",
   "language": "python",
   "name": "python3"
  },
  "language_info": {
   "codemirror_mode": {
    "name": "ipython",
    "version": 3
   },
   "file_extension": ".py",
   "mimetype": "text/x-python",
   "name": "python",
   "nbconvert_exporter": "python",
   "pygments_lexer": "ipython3",
   "version": "3.10.4"
  },
  "varInspector": {
   "cols": {
    "lenName": 16,
    "lenType": 16,
    "lenVar": 40
   },
   "kernels_config": {
    "python": {
     "delete_cmd_postfix": "",
     "delete_cmd_prefix": "del ",
     "library": "var_list.py",
     "varRefreshCmd": "print(var_dic_list())"
    },
    "r": {
     "delete_cmd_postfix": ") ",
     "delete_cmd_prefix": "rm(",
     "library": "var_list.r",
     "varRefreshCmd": "cat(var_dic_list()) "
    }
   },
   "types_to_exclude": [
    "module",
    "function",
    "builtin_function_or_method",
    "instance",
    "_Feature"
   ],
   "window_display": false
  }
 },
 "nbformat": 4,
 "nbformat_minor": 2
}
