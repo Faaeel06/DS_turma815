{
 "cells": [
  {
   "cell_type": "markdown",
   "id": "4b26fa05",
   "metadata": {},
   "source": [
    "## Avaliação por rubrica\n",
    "\n",
    "Links para serem enviados para os alunos:\n",
    "\n",
    "- Autoavaliação: https://forms.gle/v6uHSqci1Sf4oPh6A\n",
    "- Aluno - Professor: https://forms.gle/i7FHcs3bYzrwoVXa9"
   ]
  },
  {
   "cell_type": "markdown",
   "id": "bff63ec4",
   "metadata": {
    "ExecuteTime": {
     "end_time": "2022-06-21T20:04:50.168098Z",
     "start_time": "2022-06-21T20:04:50.157128Z"
    }
   },
   "source": [
    "## Prova\n",
    "- 10 questões\n",
    "- Fica disponível até sexta, dia 24/06"
   ]
  },
  {
   "cell_type": "markdown",
   "id": "45a7860e",
   "metadata": {},
   "source": [
    "# Revisão"
   ]
  },
  {
   "cell_type": "markdown",
   "id": "8baedce3",
   "metadata": {
    "ExecuteTime": {
     "end_time": "2022-06-21T20:28:24.861160Z",
     "start_time": "2022-06-21T20:28:24.843246Z"
    }
   },
   "source": [
    "## SVM e Linearmente separáveis"
   ]
  },
  {
   "cell_type": "markdown",
   "id": "4673fb65",
   "metadata": {
    "ExecuteTime": {
     "end_time": "2022-06-21T20:27:50.212688Z",
     "start_time": "2022-06-21T20:27:50.206731Z"
    }
   },
   "source": [
    "<img src=https://nianlonggu.github.io/img/2019-05-24-SVM/hyperplane-over-iteration.gif width=600>"
   ]
  },
  {
   "cell_type": "markdown",
   "id": "3e558b03",
   "metadata": {},
   "source": [
    "<img src=https://miro.medium.com/max/875/1*XhXJldwvZ9IpGNts41Mefw.gif width=600>\n",
    "<img src=https://miro.medium.com/max/872/1*zWzeMGyCc7KvGD9X8lwlnQ.png width=400>"
   ]
  },
  {
   "cell_type": "markdown",
   "id": "ae4afcd3",
   "metadata": {},
   "source": [
    "No scikit-learn,  [SVC](https://scikit-learn.org/stable/modules/generated/sklearn.svm.SVC.html)!\n",
    "\n",
    "Na prática, os principais hiperparâmetros serão `C` e o `gamma` (se o kernel escolhido utilizar este parâmetro, como, por exemplo, o kernel rbf: por isso, o hiperparâmetro `kernel` também é importante!):\n",
    "\n",
    "- `C`: é um parâmetro de regularização, relacionado com a \"suavidade\" da margem. Ele controla o tradeoff entre a complexidade da fronteira de decisão, e erros de classificação que são permitidos. Quanto **menor** o C, mais suave será a fronteira de decisão, pois mais erros de classificação são permitidos (isto é, a margem fica **mais larga**); quanto **maior** C, a tolerância a erros de classificação é menor (e a margem fica menos suave, mais complexa);\n",
    "\n",
    "\n",
    "- `gamma`: define a influência que cada ponto tem na fronteira de decisão. É a \"abertura\" do kernel: quanto **maior** o gamma, a influência é de mais curto alcance, e vice-versa;\n",
    "\n",
    "\n",
    "- `kernel`: as opções disponíveis são `linear`, `poly`, `rbf` e `sigmoid`, que apresentamos acima. Também é possível utilizar um kernel personalizado pré-calculado (neste caso, usamos a opção `precomputed`).\n",
    "https://scikit-learn.org/stable/modules/svm.html#kernel-functions\n",
    "\n",
    "<img src=https://miro.medium.com/max/1100/1*XE9jt0r1yAW8LnliQ3mllQ.png width=600>"
   ]
  },
  {
   "cell_type": "markdown",
   "id": "8f9150f2",
   "metadata": {},
   "source": [
    "## Ensemble\n"
   ]
  },
  {
   "cell_type": "markdown",
   "id": "1d0744b9",
   "metadata": {},
   "source": [
    "<img src=https://miro.medium.com/max/1400/1*wpVgt07J_TeH3jEdc3A50g.png style=\"width:900px\">"
   ]
  },
  {
   "cell_type": "markdown",
   "id": "c92a0fd6",
   "metadata": {},
   "source": [
    "<img src='images/comparison.png' style=\"width:600px\" />"
   ]
  },
  {
   "cell_type": "markdown",
   "id": "3defeb7c",
   "metadata": {},
   "source": [
    "## Aprendizagem não supervisionada"
   ]
  },
  {
   "cell_type": "markdown",
   "id": "77355d06",
   "metadata": {},
   "source": [
    "<img src=https://i.pinimg.com/originals/4c/67/31/4c6731306d2db82a3305122b5abc6824.jpg>\n"
   ]
  },
  {
   "cell_type": "markdown",
   "id": "ceeaf6d0",
   "metadata": {},
   "source": [
    "## Kmeans"
   ]
  },
  {
   "cell_type": "markdown",
   "id": "3f031f8d",
   "metadata": {
    "ExecuteTime": {
     "end_time": "2022-06-21T21:02:15.325445Z",
     "start_time": "2022-06-21T21:02:15.309824Z"
    }
   },
   "source": [
    "<img src=https://miro.medium.com/max/875/1*b2sO2f--yfZiJazc5rYSpg.gif style=\"width:700px\">\n",
    "\n",
    ">- n_clusters: quantos clusters queremos (o número k);\n",
    "\n",
    ">- max_iter: é o número máximos de iterações que o algoritmo fará, se ele não convergir antes disso. É uma boa ideia não colocar um número tão grande, ou o algoritmo pode ficar bem lento. Algo da ordem de 1000, em geral é uma boa escolha.\n",
    "\n",
    "\n",
    "<img src=https://vitalflux.com/wp-content/uploads/2020/09/Screenshot-2020-09-16-at-12.22.40-PM.png style=\"width:600px\">\n",
    "<img src=https://vitalflux.com/wp-content/uploads/2020/09/Screenshot-2020-09-16-at-12.29.57-PM.png style=\"width:600px\">"
   ]
  },
  {
   "cell_type": "markdown",
   "id": "94092b47",
   "metadata": {
    "ExecuteTime": {
     "end_time": "2022-06-21T21:05:38.214131Z",
     "start_time": "2022-06-21T21:05:38.208148Z"
    }
   },
   "source": [
    "## DBSCAN\n",
    "\n",
    "<img src=https://miro.medium.com/max/888/1*WBRWZwSeIw-V4Hw9-_0xrQ.gif>\n",
    "\n",
    "> - $\\epsilon$ (`eps` no sklearn): determina o quão próximos (relativo a uma dada **métrica de distância**) os pontos devem estar entre si para serem considerados vizinhos, e, eventualmente, parte de um cluster. Na prática, **se a distância entre dois pontos for menor ou igual a $\\epsilon$, os pontos serão considerados vizinhos**;\n",
    "<br><br>\n",
    ">Se o valor de `eps` for muito pequeno, grande parte dos dados não serão clusterizados - muitos pontos serão considerados outliers, pois não haverá vizinhos suficientes para gerar uma região densa;<br><br>\n",
    ">Por outro lado, se o valor de `eps` for muito grande, os clusters se fundirão, e a maioria dos pontos estarão em um único, grande cluster.<br><br>\n",
    ">Portanto, a escolha de `eps` está muito relacionada com **a escala** das features, o que demanda cuidadosa análise exploratória.<br><br>\n",
    ">Além disso, note que o  `eps` depende também fortemente da **métrica de distância** (`metric` no sklearn) a ser utilizada.\n",
    "\n",
    "\n",
    "> - $\\text{minPts}$ (`min_samples` no sklearn): o número mínimo de pontos que devem ser vizinhos para formar uma região densa, que será um cluster.\n",
    "<br><br>\n",
    "Valores maiores de `min_samples` são preferíveis para datasets com outliers, formando clusters mais significativos (isto é, um cluster só será formado se realmente tiver uma alta densidade)."
   ]
  },
  {
   "cell_type": "markdown",
   "id": "7e1821fa",
   "metadata": {},
   "source": [
    "## Agrupamento hierárquico"
   ]
  },
  {
   "cell_type": "markdown",
   "id": "7a97324c",
   "metadata": {},
   "source": [
    "<img style=\"height:400px;\"  src=\"https://miro.medium.com/max/257/0*iozEcRXXWXbDMrdG.gif\">"
   ]
  },
  {
   "cell_type": "markdown",
   "id": "f815c557",
   "metadata": {},
   "source": [
    "Os critérios de ligação determinam a métrica usada para a estratégia de fusão:\n",
    "- **Ward** minimiza a soma das diferenças quadradas em todos os clusters. É uma abordagem de minimização de variância e, nesse sentido, é semelhante à função objetivo k-means, mas tratada com uma abordagem hierárquica aglomerativa.\n",
    "- **A ligação máxima ou completa** minimiza a distância máxima entre as observações de pares de agrupamentos.\n",
    "- **A ligação média** minimiza a média das distâncias entre todas as observações de pares de agrupamentos.\n",
    "- **A ligação única** minimiza a distância entre as observações mais próximas de pares de clusters.\n",
    "\n",
    "<img src=https://drek4537l1klr.cloudfront.net/rhys/Figures/fig17-3_alt.jpg>\n",
    "\n",
    "<img src=https://miro.medium.com/max/1400/0*V094GN3MGCsWVnHm>"
   ]
  },
  {
   "cell_type": "code",
   "execution_count": null,
   "id": "a54c600f",
   "metadata": {},
   "outputs": [],
   "source": []
  }
 ],
 "metadata": {
  "kernelspec": {
   "display_name": "Python 3 (ipykernel)",
   "language": "python",
   "name": "python3"
  },
  "language_info": {
   "codemirror_mode": {
    "name": "ipython",
    "version": 3
   },
   "file_extension": ".py",
   "mimetype": "text/x-python",
   "name": "python",
   "nbconvert_exporter": "python",
   "pygments_lexer": "ipython3",
   "version": "3.10.4"
  },
  "varInspector": {
   "cols": {
    "lenName": 16,
    "lenType": 16,
    "lenVar": 40
   },
   "kernels_config": {
    "python": {
     "delete_cmd_postfix": "",
     "delete_cmd_prefix": "del ",
     "library": "var_list.py",
     "varRefreshCmd": "print(var_dic_list())"
    },
    "r": {
     "delete_cmd_postfix": ") ",
     "delete_cmd_prefix": "rm(",
     "library": "var_list.r",
     "varRefreshCmd": "cat(var_dic_list()) "
    }
   },
   "types_to_exclude": [
    "module",
    "function",
    "builtin_function_or_method",
    "instance",
    "_Feature"
   ],
   "window_display": false
  }
 },
 "nbformat": 4,
 "nbformat_minor": 5
}
