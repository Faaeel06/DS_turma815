{
 "cells": [
  {
   "cell_type": "markdown",
   "metadata": {},
   "source": [
    "# Aula 7 - DBSCAN\n",
    "\n",
    "Na aula de hoje, vamos explorar os seguintes tópicos em Python:\n",
    "\n",
    "- 1) DBSCAN\n",
    "- 2) Aplicação - clusterização de estações"
   ]
  },
  {
   "cell_type": "code",
   "execution_count": 2,
   "metadata": {
    "ExecuteTime": {
     "end_time": "2022-06-11T00:44:38.413822Z",
     "start_time": "2022-06-11T00:44:35.245346Z"
    }
   },
   "outputs": [],
   "source": [
    "import numpy  as np\n",
    "import pandas as pd \n",
    "\n",
    "import matplotlib.pyplot as plt\n",
    "import seaborn as sns"
   ]
  },
  {
   "cell_type": "markdown",
   "metadata": {},
   "source": [
    "https://scikit-learn.org/stable/auto_examples/cluster/plot_cluster_comparison.html"
   ]
  },
  {
   "cell_type": "markdown",
   "metadata": {},
   "source": [
    "____\n",
    "____\n",
    "_____"
   ]
  },
  {
   "cell_type": "markdown",
   "metadata": {},
   "source": [
    "## 1) DBSCAN\n",
    "\n",
    "O DBSCAN é um algoritmo de clusterização baseado no conceito de **densidade**.\n",
    "\n",
    "O nome do algoritmo é uma sigla, que explica bem seu funcionamento: **D**ensity-**B**ased **S**patial **C**lustering of **A**pplications with **N**oise.\n",
    "\n",
    "O algoritmo foi proposto com o objetivo de proporcionar uma técnica de clusterização que possa funcionar **mesmo quando os clusters a serem criados não forem uniformes**, tendo **tamanho, forma e densidade variáveis**. \n",
    "\n",
    "Além disso, por construção o método funciona bem em contextos em que há **ruídos/outliers**, sendo capaz de detectá-los sem influenciar a criação dos clusters. \n",
    "\n",
    "Por fim, uma vantagem enorme é o fato do algoritmo **não demandar a determinação prévia da quantidade de clusters**, o que é uma vantagem interessante se não houver indicações do problema de negócio para esta determinação (embora, como veremos, ainda há hiperparâmetros importantes a serem determinados).\n",
    "\n",
    "Vamos entender o funcionamento do algoritmo mais a fundo!"
   ]
  },
  {
   "cell_type": "markdown",
   "metadata": {},
   "source": [
    "O DBSCAN tem como princípio fundamental a **determinação de regiões de alta densidade de observações**, que são **separadas entre si por regiões de baixa densidade**.\n",
    "\n",
    "Lembrando que, por ser um algoritmo não-supervisionado de clusterização, quando nos referimos à \"regiões\" cuja densidade será aferida, estamos nos referindo a regiões **do espaço de features**.\n",
    "\n",
    "Uma pergunta natural é: **como determinar a densidade de uma região?** Para responder esta pergunta, precisamos de algumas definições:\n",
    "\n",
    "> **Densidade em um ponto $P$:** número de pontos dentro de um círculo de raio $\\epsilon$ centrado no ponto $P$ (região chamada de vizinhança-$\\epsilon$ de $P$);\n",
    "\n",
    "> **Região densa**: dizemos que uma região é densa se o círculo de raio $\\epsilon$ contém pelo menos um número mínimo de pontos (que chamaremos de $\\text{minPts}$. Uma região densa **formará um cluster**."
   ]
  },
  {
   "cell_type": "markdown",
   "metadata": {},
   "source": [
    "Para visualizar as definições acima, considere a figura a seguir:\n",
    "\n",
    "<img src=https://www.researchgate.net/publication/315326812/figure/fig2/AS:473095908663297@1489806262333/A-cluster-consists-of-core-points-red-and-border-points-green-Core-points-have-at.png width=500>\n",
    "\n",
    "<img src=https://www.researchgate.net/publication/335485895/figure/fig2/AS:797412515909651@1567129367940/A-single-DBSCAN-cluster-with-Core-Border-and-Noise-Points.ppm width=500>"
   ]
  },
  {
   "cell_type": "markdown",
   "metadata": {},
   "source": [
    "Dada a definição acima, podemos classificar pontos dentro de um cluster como:\n",
    "\n",
    "> **Core points (pontos centrais)**: são pontos que estão no interior dos clusters (regiões densas). Matematicamente, um ponto é considerado core **se sua densidade é de pelo menos $\\text{minPts}$**, ou seja, se **há pelo menos $\\text{minPts}$ pontos dentro do círculo de raio $\\epsilon$ centrado no ponto**.\n",
    "\n",
    "> **Border points (pontos de fronteira)**: são pontos que estão na fronteira de um cluster. Matematicamente, estes pontos **têm densidade menor que $\\text{minPts}$**, mas que **fazem parte da vizinhança-$\\epsilon$ de um ponto central**.\n",
    "\n",
    "> **Noisy points (pontos de ruído/outliers)**: são pontos que não são centrais nem de fronteira. Estes pontos não fazem parte do cluster, e são considerados outliers.\n"
   ]
  },
  {
   "cell_type": "markdown",
   "metadata": {},
   "source": [
    "Olhando para as definições acima, e pras figuras, fica claro que $\\epsilon$ e $\\text{minPts}$ são os hiperparâmetros do modelo -- e que os clusters gerados são fortemente dependentes destes hiperparâmetros!\n",
    "\n",
    "\n",
    "> - $\\epsilon$ (`eps` no sklearn): determina o quão próximos (relativo a uma dada **métrica de distância**) os pontos devem estar entre si para serem considerados vizinhos, e, eventualmente, parte de um cluster. Na prática, **se a distância entre dois pontos for menor ou igual a $\\epsilon$, os pontos serão considerados vizinhos**;\n",
    "<br><br>\n",
    ">Se o valor de `eps` for muito pequeno, grande parte dos dados não serão clusterizados - muitos pontos serão considerados outliers, pois não haverá vizinhos suficientes para gerar uma região densa;<br><br>\n",
    ">Por outro lado, se o valor de `eps` for muito grande, os clusters se fundirão, e a maioria dos pontos estarão em um único, grande cluster.<br><br>\n",
    ">Portanto, a escolha de `eps` está muito relacionada com **a escala** das features, o que demanda cuidadosa análise exploratória.<br><br>\n",
    ">Além disso, note que o  `eps` depende também fortemente da **métrica de distância** (`metric` no sklearn) a ser utilizada.\n",
    "\n",
    "\n",
    "> - $\\text{minPts}$ (`min_samples` no sklearn): o número mínimo de pontos que devem ser vizinhos para formar uma região densa, que será um cluster.\n",
    "<br><br>\n",
    "Valores maiores de `min_samples` são preferíveis para datasets com outliers, formando clusters mais significativos (isto é, um cluster só será formado se realmente tiver uma alta densidade).\n",
    "\n",
    "Para algumas dicas práticas de como estimar bons valores para os hiper-parâmetros, [clique aqui](https://en.wikipedia.org/wiki/DBSCAN#Parameter_estimation).\n",
    "\n"
   ]
  },
  {
   "cell_type": "markdown",
   "metadata": {},
   "source": [
    "__________\n",
    "\n",
    "Agora que entendemos os princípios e principais hiperparâmetros do DBSCAN, vamos agora entender os passos do algoritmo (que é bem simples!)\n",
    "\n",
    "> **Passo 1**: o algoritmo escolhe aleatoriamente um dos pontos, e sua vizinhança-$\\epsilon$ é calculada;\n",
    "\n",
    "> **Passo 2**: se este ponto tem $\\text{minPts}$ em sua vizinhança-$\\epsilon$, a formação do cluster é iniciada (veja próximo passo). Se não, o ponto é marcado como outlier (mas pode ser considerado como border point de um outro cluster posteriormente). Se for um outlier, volte ao passo 1;\n",
    "\n",
    "> **Passo 3**: se o ponto for um core point, todos os pontos na vizinhança são agregados ao cluster, e o passo 1 é aplicado a cada um deles;\n",
    "\n",
    "> **Passo 4**: o processo do passo 3 é continuado até que todos os pontos tenham um cluster associado ou esteja marcado como noise."
   ]
  },
  {
   "cell_type": "markdown",
   "metadata": {},
   "source": [
    "Podemos visualizar a seguir o DBSCAN em funcionamento:\n",
    "\n",
    "\n",
    "<img src=\"http://data-analysis-stats.jp/wp-content/uploads/2019/09/DBSCAN_01.gif\" width=400>\n",
    "\n",
    "\n",
    "<img src=https://i.pinimg.com/originals/bb/3d/5e/bb3d5e522cbcb2dd07a81f8118de2041.gif width=500>\n"
   ]
  },
  {
   "cell_type": "markdown",
   "metadata": {},
   "source": [
    "A classe do sklearn é esta: [DBSCAN](https://scikit-learn.org/stable/modules/generated/sklearn.cluster.DBSCAN.html)\n"
   ]
  },
  {
   "cell_type": "markdown",
   "metadata": {},
   "source": [
    "Vamos para o notebook \"exercício e depois voltamos para o último exemplo da aula"
   ]
  },
  {
   "cell_type": "markdown",
   "metadata": {},
   "source": [
    "____\n"
   ]
  },
  {
   "cell_type": "markdown",
   "metadata": {},
   "source": [
    "## 2) Aplicação - clusterização de estações\n",
    "\n",
    "Vamos pegar os dados geográficos das estações da malha de transporte metropolitano de SP, e ver uma aplicação interessante do DBSCAN"
   ]
  },
  {
   "cell_type": "code",
   "execution_count": 3,
   "metadata": {
    "ExecuteTime": {
     "end_time": "2022-06-11T00:44:50.651945Z",
     "start_time": "2022-06-11T00:44:50.614231Z"
    }
   },
   "outputs": [],
   "source": [
    "df = pd.read_csv(\"../datasets/metroetrem_sp_comlinks.csv\").reset_index(drop=True)"
   ]
  },
  {
   "cell_type": "code",
   "execution_count": 4,
   "metadata": {
    "ExecuteTime": {
     "end_time": "2022-06-11T00:44:57.768004Z",
     "start_time": "2022-06-11T00:44:57.737087Z"
    }
   },
   "outputs": [
    {
     "data": {
      "text/html": [
       "<div>\n",
       "<style scoped>\n",
       "    .dataframe tbody tr th:only-of-type {\n",
       "        vertical-align: middle;\n",
       "    }\n",
       "\n",
       "    .dataframe tbody tr th {\n",
       "        vertical-align: top;\n",
       "    }\n",
       "\n",
       "    .dataframe thead th {\n",
       "        text-align: right;\n",
       "    }\n",
       "</style>\n",
       "<table border=\"1\" class=\"dataframe\">\n",
       "  <thead>\n",
       "    <tr style=\"text-align: right;\">\n",
       "      <th></th>\n",
       "      <th>num_lin</th>\n",
       "      <th>nome_lin</th>\n",
       "      <th>long</th>\n",
       "      <th>lat</th>\n",
       "      <th>estacao_upp</th>\n",
       "      <th>link</th>\n",
       "    </tr>\n",
       "  </thead>\n",
       "  <tbody>\n",
       "    <tr>\n",
       "      <th>0</th>\n",
       "      <td>4</td>\n",
       "      <td>AMARELA</td>\n",
       "      <td>-46723768</td>\n",
       "      <td>-23586440</td>\n",
       "      <td>SAO PAULO MORUMBI</td>\n",
       "      <td>BUTANTA</td>\n",
       "    </tr>\n",
       "    <tr>\n",
       "      <th>1</th>\n",
       "      <td>4</td>\n",
       "      <td>AMARELA</td>\n",
       "      <td>-46708157</td>\n",
       "      <td>-23571857</td>\n",
       "      <td>BUTANTA</td>\n",
       "      <td>PINHEIROS</td>\n",
       "    </tr>\n",
       "    <tr>\n",
       "      <th>2</th>\n",
       "      <td>4</td>\n",
       "      <td>AMARELA</td>\n",
       "      <td>-46701610</td>\n",
       "      <td>-23567392</td>\n",
       "      <td>PINHEIROS</td>\n",
       "      <td>FARIA LIMA</td>\n",
       "    </tr>\n",
       "    <tr>\n",
       "      <th>3</th>\n",
       "      <td>4</td>\n",
       "      <td>AMARELA</td>\n",
       "      <td>-46694102</td>\n",
       "      <td>-23567269</td>\n",
       "      <td>FARIA LIMA</td>\n",
       "      <td>FRADIQUE COUTINHO</td>\n",
       "    </tr>\n",
       "    <tr>\n",
       "      <th>4</th>\n",
       "      <td>4</td>\n",
       "      <td>AMARELA</td>\n",
       "      <td>-46684259</td>\n",
       "      <td>-23566228</td>\n",
       "      <td>FRADIQUE COUTINHO</td>\n",
       "      <td>OSCAR FREIRE</td>\n",
       "    </tr>\n",
       "    <tr>\n",
       "      <th>...</th>\n",
       "      <td>...</td>\n",
       "      <td>...</td>\n",
       "      <td>...</td>\n",
       "      <td>...</td>\n",
       "      <td>...</td>\n",
       "      <td>...</td>\n",
       "    </tr>\n",
       "    <tr>\n",
       "      <th>191</th>\n",
       "      <td>3</td>\n",
       "      <td>VERMELHA</td>\n",
       "      <td>-46530926</td>\n",
       "      <td>-23531906</td>\n",
       "      <td>VILA MATILDE</td>\n",
       "      <td>GUILHERMINA ESPERANCA</td>\n",
       "    </tr>\n",
       "    <tr>\n",
       "      <th>192</th>\n",
       "      <td>3</td>\n",
       "      <td>VERMELHA</td>\n",
       "      <td>-46516730</td>\n",
       "      <td>-23529421</td>\n",
       "      <td>GUILHERMINA ESPERANCA</td>\n",
       "      <td>PATRIARCA VILA RE</td>\n",
       "    </tr>\n",
       "    <tr>\n",
       "      <th>193</th>\n",
       "      <td>3</td>\n",
       "      <td>VERMELHA</td>\n",
       "      <td>-46501354</td>\n",
       "      <td>-23531229</td>\n",
       "      <td>PATRIARCA VILA RE</td>\n",
       "      <td>ARTUR ALVIM</td>\n",
       "    </tr>\n",
       "    <tr>\n",
       "      <th>194</th>\n",
       "      <td>3</td>\n",
       "      <td>VERMELHA</td>\n",
       "      <td>-46484555</td>\n",
       "      <td>-23540371</td>\n",
       "      <td>ARTUR ALVIM</td>\n",
       "      <td>CORINTHIANS ITAQUERA</td>\n",
       "    </tr>\n",
       "    <tr>\n",
       "      <th>195</th>\n",
       "      <td>3</td>\n",
       "      <td>VERMELHA</td>\n",
       "      <td>-46471100</td>\n",
       "      <td>-23542439</td>\n",
       "      <td>CORINTHIANS ITAQUERA</td>\n",
       "      <td>CORINTHIANS ITAQUERA</td>\n",
       "    </tr>\n",
       "  </tbody>\n",
       "</table>\n",
       "<p>196 rows × 6 columns</p>\n",
       "</div>"
      ],
      "text/plain": [
       "     num_lin  nome_lin      long       lat            estacao_upp  \\\n",
       "0          4   AMARELA -46723768 -23586440      SAO PAULO MORUMBI   \n",
       "1          4   AMARELA -46708157 -23571857                BUTANTA   \n",
       "2          4   AMARELA -46701610 -23567392              PINHEIROS   \n",
       "3          4   AMARELA -46694102 -23567269             FARIA LIMA   \n",
       "4          4   AMARELA -46684259 -23566228      FRADIQUE COUTINHO   \n",
       "..       ...       ...       ...       ...                    ...   \n",
       "191        3  VERMELHA -46530926 -23531906           VILA MATILDE   \n",
       "192        3  VERMELHA -46516730 -23529421  GUILHERMINA ESPERANCA   \n",
       "193        3  VERMELHA -46501354 -23531229      PATRIARCA VILA RE   \n",
       "194        3  VERMELHA -46484555 -23540371            ARTUR ALVIM   \n",
       "195        3  VERMELHA -46471100 -23542439   CORINTHIANS ITAQUERA   \n",
       "\n",
       "                      link  \n",
       "0                  BUTANTA  \n",
       "1                PINHEIROS  \n",
       "2               FARIA LIMA  \n",
       "3        FRADIQUE COUTINHO  \n",
       "4             OSCAR FREIRE  \n",
       "..                     ...  \n",
       "191  GUILHERMINA ESPERANCA  \n",
       "192      PATRIARCA VILA RE  \n",
       "193            ARTUR ALVIM  \n",
       "194   CORINTHIANS ITAQUERA  \n",
       "195   CORINTHIANS ITAQUERA  \n",
       "\n",
       "[196 rows x 6 columns]"
      ]
     },
     "execution_count": 4,
     "metadata": {},
     "output_type": "execute_result"
    }
   ],
   "source": [
    "df"
   ]
  },
  {
   "cell_type": "code",
   "execution_count": 5,
   "metadata": {
    "ExecuteTime": {
     "end_time": "2022-06-11T00:46:17.908695Z",
     "start_time": "2022-06-11T00:46:17.870798Z"
    }
   },
   "outputs": [
    {
     "name": "stdout",
     "output_type": "stream",
     "text": [
      "<class 'pandas.core.frame.DataFrame'>\n",
      "RangeIndex: 196 entries, 0 to 195\n",
      "Data columns (total 6 columns):\n",
      " #   Column       Non-Null Count  Dtype \n",
      "---  ------       --------------  ----- \n",
      " 0   num_lin      196 non-null    int64 \n",
      " 1   nome_lin     196 non-null    object\n",
      " 2   long         196 non-null    int64 \n",
      " 3   lat          196 non-null    int64 \n",
      " 4   estacao_upp  196 non-null    object\n",
      " 5   link         196 non-null    object\n",
      "dtypes: int64(3), object(3)\n",
      "memory usage: 9.3+ KB\n"
     ]
    }
   ],
   "source": [
    "df.info()"
   ]
  },
  {
   "cell_type": "code",
   "execution_count": 6,
   "metadata": {
    "ExecuteTime": {
     "end_time": "2022-06-11T00:46:31.632883Z",
     "start_time": "2022-06-11T00:46:31.616937Z"
    }
   },
   "outputs": [],
   "source": [
    "df[\"long\"] = df[\"long\"]/1e6\n",
    "\n",
    "df[\"lat\"] = df[\"lat\"]/1e6"
   ]
  },
  {
   "cell_type": "code",
   "execution_count": 7,
   "metadata": {
    "ExecuteTime": {
     "end_time": "2022-06-11T00:46:58.320519Z",
     "start_time": "2022-06-11T00:46:58.289564Z"
    }
   },
   "outputs": [
    {
     "data": {
      "text/html": [
       "<div>\n",
       "<style scoped>\n",
       "    .dataframe tbody tr th:only-of-type {\n",
       "        vertical-align: middle;\n",
       "    }\n",
       "\n",
       "    .dataframe tbody tr th {\n",
       "        vertical-align: top;\n",
       "    }\n",
       "\n",
       "    .dataframe thead th {\n",
       "        text-align: right;\n",
       "    }\n",
       "</style>\n",
       "<table border=\"1\" class=\"dataframe\">\n",
       "  <thead>\n",
       "    <tr style=\"text-align: right;\">\n",
       "      <th></th>\n",
       "      <th>num_lin</th>\n",
       "      <th>long</th>\n",
       "      <th>lat</th>\n",
       "    </tr>\n",
       "  </thead>\n",
       "  <tbody>\n",
       "    <tr>\n",
       "      <th>count</th>\n",
       "      <td>196.000000</td>\n",
       "      <td>196.000000</td>\n",
       "      <td>196.000000</td>\n",
       "    </tr>\n",
       "    <tr>\n",
       "      <th>mean</th>\n",
       "      <td>6.897959</td>\n",
       "      <td>-46.627699</td>\n",
       "      <td>-23.550003</td>\n",
       "    </tr>\n",
       "    <tr>\n",
       "      <th>std</th>\n",
       "      <td>4.026807</td>\n",
       "      <td>0.141381</td>\n",
       "      <td>0.082085</td>\n",
       "    </tr>\n",
       "    <tr>\n",
       "      <th>min</th>\n",
       "      <td>1.000000</td>\n",
       "      <td>-46.983711</td>\n",
       "      <td>-23.743306</td>\n",
       "    </tr>\n",
       "    <tr>\n",
       "      <th>25%</th>\n",
       "      <td>3.000000</td>\n",
       "      <td>-46.705265</td>\n",
       "      <td>-23.595562</td>\n",
       "    </tr>\n",
       "    <tr>\n",
       "      <th>50%</th>\n",
       "      <td>7.000000</td>\n",
       "      <td>-46.638983</td>\n",
       "      <td>-23.545068</td>\n",
       "    </tr>\n",
       "    <tr>\n",
       "      <th>75%</th>\n",
       "      <td>10.000000</td>\n",
       "      <td>-46.557528</td>\n",
       "      <td>-23.525365</td>\n",
       "    </tr>\n",
       "    <tr>\n",
       "      <th>max</th>\n",
       "      <td>15.000000</td>\n",
       "      <td>-46.184967</td>\n",
       "      <td>-23.195382</td>\n",
       "    </tr>\n",
       "  </tbody>\n",
       "</table>\n",
       "</div>"
      ],
      "text/plain": [
       "          num_lin        long         lat\n",
       "count  196.000000  196.000000  196.000000\n",
       "mean     6.897959  -46.627699  -23.550003\n",
       "std      4.026807    0.141381    0.082085\n",
       "min      1.000000  -46.983711  -23.743306\n",
       "25%      3.000000  -46.705265  -23.595562\n",
       "50%      7.000000  -46.638983  -23.545068\n",
       "75%     10.000000  -46.557528  -23.525365\n",
       "max     15.000000  -46.184967  -23.195382"
      ]
     },
     "execution_count": 7,
     "metadata": {},
     "output_type": "execute_result"
    }
   ],
   "source": [
    "df.describe()"
   ]
  },
  {
   "cell_type": "code",
   "execution_count": 8,
   "metadata": {
    "ExecuteTime": {
     "end_time": "2022-06-11T00:48:08.078102Z",
     "start_time": "2022-06-11T00:48:08.050178Z"
    }
   },
   "outputs": [
    {
     "data": {
      "text/html": [
       "<div>\n",
       "<style scoped>\n",
       "    .dataframe tbody tr th:only-of-type {\n",
       "        vertical-align: middle;\n",
       "    }\n",
       "\n",
       "    .dataframe tbody tr th {\n",
       "        vertical-align: top;\n",
       "    }\n",
       "\n",
       "    .dataframe thead th {\n",
       "        text-align: right;\n",
       "    }\n",
       "</style>\n",
       "<table border=\"1\" class=\"dataframe\">\n",
       "  <thead>\n",
       "    <tr style=\"text-align: right;\">\n",
       "      <th></th>\n",
       "      <th>num_lin</th>\n",
       "      <th>nome_lin</th>\n",
       "      <th>long</th>\n",
       "      <th>lat</th>\n",
       "      <th>estacao_upp</th>\n",
       "      <th>link</th>\n",
       "    </tr>\n",
       "  </thead>\n",
       "  <tbody>\n",
       "    <tr>\n",
       "      <th>0</th>\n",
       "      <td>4</td>\n",
       "      <td>AMARELA</td>\n",
       "      <td>-46.723768</td>\n",
       "      <td>-23.586440</td>\n",
       "      <td>SAO PAULO MORUMBI</td>\n",
       "      <td>BUTANTA</td>\n",
       "    </tr>\n",
       "    <tr>\n",
       "      <th>1</th>\n",
       "      <td>4</td>\n",
       "      <td>AMARELA</td>\n",
       "      <td>-46.708157</td>\n",
       "      <td>-23.571857</td>\n",
       "      <td>BUTANTA</td>\n",
       "      <td>PINHEIROS</td>\n",
       "    </tr>\n",
       "    <tr>\n",
       "      <th>2</th>\n",
       "      <td>4</td>\n",
       "      <td>AMARELA</td>\n",
       "      <td>-46.701610</td>\n",
       "      <td>-23.567392</td>\n",
       "      <td>PINHEIROS</td>\n",
       "      <td>FARIA LIMA</td>\n",
       "    </tr>\n",
       "    <tr>\n",
       "      <th>3</th>\n",
       "      <td>4</td>\n",
       "      <td>AMARELA</td>\n",
       "      <td>-46.694102</td>\n",
       "      <td>-23.567269</td>\n",
       "      <td>FARIA LIMA</td>\n",
       "      <td>FRADIQUE COUTINHO</td>\n",
       "    </tr>\n",
       "    <tr>\n",
       "      <th>4</th>\n",
       "      <td>4</td>\n",
       "      <td>AMARELA</td>\n",
       "      <td>-46.684259</td>\n",
       "      <td>-23.566228</td>\n",
       "      <td>FRADIQUE COUTINHO</td>\n",
       "      <td>OSCAR FREIRE</td>\n",
       "    </tr>\n",
       "    <tr>\n",
       "      <th>...</th>\n",
       "      <td>...</td>\n",
       "      <td>...</td>\n",
       "      <td>...</td>\n",
       "      <td>...</td>\n",
       "      <td>...</td>\n",
       "      <td>...</td>\n",
       "    </tr>\n",
       "    <tr>\n",
       "      <th>191</th>\n",
       "      <td>3</td>\n",
       "      <td>VERMELHA</td>\n",
       "      <td>-46.530926</td>\n",
       "      <td>-23.531906</td>\n",
       "      <td>VILA MATILDE</td>\n",
       "      <td>GUILHERMINA ESPERANCA</td>\n",
       "    </tr>\n",
       "    <tr>\n",
       "      <th>192</th>\n",
       "      <td>3</td>\n",
       "      <td>VERMELHA</td>\n",
       "      <td>-46.516730</td>\n",
       "      <td>-23.529421</td>\n",
       "      <td>GUILHERMINA ESPERANCA</td>\n",
       "      <td>PATRIARCA VILA RE</td>\n",
       "    </tr>\n",
       "    <tr>\n",
       "      <th>193</th>\n",
       "      <td>3</td>\n",
       "      <td>VERMELHA</td>\n",
       "      <td>-46.501354</td>\n",
       "      <td>-23.531229</td>\n",
       "      <td>PATRIARCA VILA RE</td>\n",
       "      <td>ARTUR ALVIM</td>\n",
       "    </tr>\n",
       "    <tr>\n",
       "      <th>194</th>\n",
       "      <td>3</td>\n",
       "      <td>VERMELHA</td>\n",
       "      <td>-46.484555</td>\n",
       "      <td>-23.540371</td>\n",
       "      <td>ARTUR ALVIM</td>\n",
       "      <td>CORINTHIANS ITAQUERA</td>\n",
       "    </tr>\n",
       "    <tr>\n",
       "      <th>195</th>\n",
       "      <td>3</td>\n",
       "      <td>VERMELHA</td>\n",
       "      <td>-46.471100</td>\n",
       "      <td>-23.542439</td>\n",
       "      <td>CORINTHIANS ITAQUERA</td>\n",
       "      <td>CORINTHIANS ITAQUERA</td>\n",
       "    </tr>\n",
       "  </tbody>\n",
       "</table>\n",
       "<p>196 rows × 6 columns</p>\n",
       "</div>"
      ],
      "text/plain": [
       "     num_lin  nome_lin       long        lat            estacao_upp  \\\n",
       "0          4   AMARELA -46.723768 -23.586440      SAO PAULO MORUMBI   \n",
       "1          4   AMARELA -46.708157 -23.571857                BUTANTA   \n",
       "2          4   AMARELA -46.701610 -23.567392              PINHEIROS   \n",
       "3          4   AMARELA -46.694102 -23.567269             FARIA LIMA   \n",
       "4          4   AMARELA -46.684259 -23.566228      FRADIQUE COUTINHO   \n",
       "..       ...       ...        ...        ...                    ...   \n",
       "191        3  VERMELHA -46.530926 -23.531906           VILA MATILDE   \n",
       "192        3  VERMELHA -46.516730 -23.529421  GUILHERMINA ESPERANCA   \n",
       "193        3  VERMELHA -46.501354 -23.531229      PATRIARCA VILA RE   \n",
       "194        3  VERMELHA -46.484555 -23.540371            ARTUR ALVIM   \n",
       "195        3  VERMELHA -46.471100 -23.542439   CORINTHIANS ITAQUERA   \n",
       "\n",
       "                      link  \n",
       "0                  BUTANTA  \n",
       "1                PINHEIROS  \n",
       "2               FARIA LIMA  \n",
       "3        FRADIQUE COUTINHO  \n",
       "4             OSCAR FREIRE  \n",
       "..                     ...  \n",
       "191  GUILHERMINA ESPERANCA  \n",
       "192      PATRIARCA VILA RE  \n",
       "193            ARTUR ALVIM  \n",
       "194   CORINTHIANS ITAQUERA  \n",
       "195   CORINTHIANS ITAQUERA  \n",
       "\n",
       "[196 rows x 6 columns]"
      ]
     },
     "execution_count": 8,
     "metadata": {},
     "output_type": "execute_result"
    }
   ],
   "source": [
    "df"
   ]
  },
  {
   "cell_type": "code",
   "execution_count": 9,
   "metadata": {
    "ExecuteTime": {
     "end_time": "2022-06-11T00:49:59.161350Z",
     "start_time": "2022-06-11T00:49:59.135419Z"
    }
   },
   "outputs": [
    {
     "data": {
      "text/plain": [
       "AZUL         23\n",
       "DIAMANTE     22\n",
       "RUBI         19\n",
       "ESMERALDA    18\n",
       "VERMELHA     18\n",
       "LILAS        17\n",
       "CORAL        16\n",
       "VERDE        14\n",
       "SAFIRA       13\n",
       "TURQUESA     13\n",
       "AMARELA      10\n",
       "PRATA        10\n",
       "JADE          3\n",
       "Name: nome_lin, dtype: int64"
      ]
     },
     "execution_count": 9,
     "metadata": {},
     "output_type": "execute_result"
    }
   ],
   "source": [
    "df[\"nome_lin\"].value_counts()"
   ]
  },
  {
   "cell_type": "code",
   "execution_count": 10,
   "metadata": {
    "ExecuteTime": {
     "end_time": "2022-06-11T00:50:27.528766Z",
     "start_time": "2022-06-11T00:50:27.509819Z"
    }
   },
   "outputs": [],
   "source": [
    "colors = {'AMARELA': '#f0d20e',\n",
    "          'AZUL': '#0515a3',\n",
    "          'CORAL': '#e07000',\n",
    "          'DIAMANTE': '#919190',\n",
    "          'ESMERALDA': '#0bd6a3',\n",
    "          'JADE': '#0bd637',\n",
    "          'LILAS': '#a659de',\n",
    "          'PRATA': '#616161',\n",
    "          'RUBI': '#9c2438',\n",
    "          'SAFIRA': '#0c0880',\n",
    "          'TURQUESA': '#267587',\n",
    "          'VERDE': '#048a37',\n",
    "          'VERMELHA': '#d10202'}"
   ]
  },
  {
   "cell_type": "code",
   "execution_count": 14,
   "metadata": {
    "ExecuteTime": {
     "end_time": "2022-06-11T00:51:50.824377Z",
     "start_time": "2022-06-11T00:51:50.110638Z"
    }
   },
   "outputs": [
    {
     "data": {
      "image/png": "[encoded data removed]",
      "text/plain": [
       "<Figure size 1152x576 with 1 Axes>"
      ]
     },
     "metadata": {
      "needs_background": "light"
     },
     "output_type": "display_data"
    }
   ],
   "source": [
    "plt.figure(figsize=(16, 8))\n",
    "\n",
    "plt.title(\"Mapa transporte público SP\")\n",
    "\n",
    "sns.scatterplot(data=df, x=\"long\", y=\"lat\", hue=\"nome_lin\", palette=colors)\n",
    "\n",
    "\n",
    "plt.gca().set_aspect(\"equal\", adjustable=\"box\")\n",
    "\n",
    "plt.show()"
   ]
  },
  {
   "cell_type": "markdown",
   "metadata": {},
   "source": [
    "<img src=\"https://i.redd.it/6jxo08iuzpxy.gif\" width=500>"
   ]
  },
  {
   "cell_type": "code",
   "execution_count": 15,
   "metadata": {
    "ExecuteTime": {
     "end_time": "2022-06-11T00:52:47.721731Z",
     "start_time": "2022-06-11T00:52:47.698256Z"
    }
   },
   "outputs": [],
   "source": [
    "X_sp = df[[\"lat\", \"long\"]].copy()"
   ]
  },
  {
   "cell_type": "code",
   "execution_count": 16,
   "metadata": {
    "ExecuteTime": {
     "end_time": "2022-06-11T00:53:04.120729Z",
     "start_time": "2022-06-11T00:53:04.099786Z"
    }
   },
   "outputs": [],
   "source": [
    "X_sp = np.radians(X_sp)"
   ]
  },
  {
   "cell_type": "code",
   "execution_count": 17,
   "metadata": {
    "ExecuteTime": {
     "end_time": "2022-06-11T00:53:09.665078Z",
     "start_time": "2022-06-11T00:53:09.649120Z"
    }
   },
   "outputs": [
    {
     "data": {
      "text/html": [
       "<div>\n",
       "<style scoped>\n",
       "    .dataframe tbody tr th:only-of-type {\n",
       "        vertical-align: middle;\n",
       "    }\n",
       "\n",
       "    .dataframe tbody tr th {\n",
       "        vertical-align: top;\n",
       "    }\n",
       "\n",
       "    .dataframe thead th {\n",
       "        text-align: right;\n",
       "    }\n",
       "</style>\n",
       "<table border=\"1\" class=\"dataframe\">\n",
       "  <thead>\n",
       "    <tr style=\"text-align: right;\">\n",
       "      <th></th>\n",
       "      <th>lat</th>\n",
       "      <th>long</th>\n",
       "    </tr>\n",
       "  </thead>\n",
       "  <tbody>\n",
       "    <tr>\n",
       "      <th>0</th>\n",
       "      <td>-0.411661</td>\n",
       "      <td>-0.815484</td>\n",
       "    </tr>\n",
       "    <tr>\n",
       "      <th>1</th>\n",
       "      <td>-0.411407</td>\n",
       "      <td>-0.815211</td>\n",
       "    </tr>\n",
       "    <tr>\n",
       "      <th>2</th>\n",
       "      <td>-0.411329</td>\n",
       "      <td>-0.815097</td>\n",
       "    </tr>\n",
       "    <tr>\n",
       "      <th>3</th>\n",
       "      <td>-0.411326</td>\n",
       "      <td>-0.814966</td>\n",
       "    </tr>\n",
       "    <tr>\n",
       "      <th>4</th>\n",
       "      <td>-0.411308</td>\n",
       "      <td>-0.814794</td>\n",
       "    </tr>\n",
       "    <tr>\n",
       "      <th>...</th>\n",
       "      <td>...</td>\n",
       "      <td>...</td>\n",
       "    </tr>\n",
       "    <tr>\n",
       "      <th>191</th>\n",
       "      <td>-0.410709</td>\n",
       "      <td>-0.812118</td>\n",
       "    </tr>\n",
       "    <tr>\n",
       "      <th>192</th>\n",
       "      <td>-0.410666</td>\n",
       "      <td>-0.811870</td>\n",
       "    </tr>\n",
       "    <tr>\n",
       "      <th>193</th>\n",
       "      <td>-0.410697</td>\n",
       "      <td>-0.811602</td>\n",
       "    </tr>\n",
       "    <tr>\n",
       "      <th>194</th>\n",
       "      <td>-0.410857</td>\n",
       "      <td>-0.811309</td>\n",
       "    </tr>\n",
       "    <tr>\n",
       "      <th>195</th>\n",
       "      <td>-0.410893</td>\n",
       "      <td>-0.811074</td>\n",
       "    </tr>\n",
       "  </tbody>\n",
       "</table>\n",
       "<p>196 rows × 2 columns</p>\n",
       "</div>"
      ],
      "text/plain": [
       "          lat      long\n",
       "0   -0.411661 -0.815484\n",
       "1   -0.411407 -0.815211\n",
       "2   -0.411329 -0.815097\n",
       "3   -0.411326 -0.814966\n",
       "4   -0.411308 -0.814794\n",
       "..        ...       ...\n",
       "191 -0.410709 -0.812118\n",
       "192 -0.410666 -0.811870\n",
       "193 -0.410697 -0.811602\n",
       "194 -0.410857 -0.811309\n",
       "195 -0.410893 -0.811074\n",
       "\n",
       "[196 rows x 2 columns]"
      ]
     },
     "execution_count": 17,
     "metadata": {},
     "output_type": "execute_result"
    }
   ],
   "source": [
    "X_sp"
   ]
  },
  {
   "cell_type": "code",
   "execution_count": 20,
   "metadata": {
    "ExecuteTime": {
     "end_time": "2022-06-11T00:54:25.722252Z",
     "start_time": "2022-06-11T00:54:25.373644Z"
    }
   },
   "outputs": [],
   "source": [
    "from sklearn.cluster import DBSCAN"
   ]
  },
  {
   "cell_type": "code",
   "execution_count": 21,
   "metadata": {
    "ExecuteTime": {
     "end_time": "2022-06-11T00:54:25.801449Z",
     "start_time": "2022-06-11T00:54:25.791474Z"
    }
   },
   "outputs": [],
   "source": [
    "def clusterizacao_sp(X, eps_km, min_samples):\n",
    "    \n",
    "    X = X.copy()\n",
    "    \n",
    "    RT = 6371.0088\n",
    "\n",
    "    eps_angular = eps_km/RT\n",
    "\n",
    "    dbscan = DBSCAN(eps=eps_angular, min_samples=min_samples,\n",
    "                    metric=\"haversine\").fit(X)\n",
    "    \n",
    "    # =================================\n",
    "    \n",
    "    X[\"cluster\"] = dbscan.labels_\n",
    "    \n",
    "    # =================================\n",
    "    \n",
    "    plt.figure(figsize=(16, 8))\n",
    "\n",
    "    plt.title(\"Mapa transporte SP\")\n",
    "\n",
    "    sns.scatterplot(data=X, x=\"long\", y=\"lat\", hue=\"cluster\", palette=\"viridis\")\n",
    "\n",
    "    plt.gca().set_aspect(\"equal\", adjustable=\"box\")\n",
    "\n",
    "    plt.show()\n",
    "    \n",
    "    return X"
   ]
  },
  {
   "cell_type": "code",
   "execution_count": 22,
   "metadata": {
    "ExecuteTime": {
     "end_time": "2022-06-11T00:54:28.157298Z",
     "start_time": "2022-06-11T00:54:27.768116Z"
    }
   },
   "outputs": [
    {
     "data": {
      "image/png": "[encoded data removed]",
      "text/plain": [
       "<Figure size 1152x576 with 1 Axes>"
      ]
     },
     "metadata": {
      "needs_background": "light"
     },
     "output_type": "display_data"
    }
   ],
   "source": [
    "df_resposta = clusterizacao_sp(X_sp, eps_km=4, min_samples=2)"
   ]
  },
  {
   "cell_type": "code",
   "execution_count": 23,
   "metadata": {
    "ExecuteTime": {
     "end_time": "2022-06-11T00:56:53.288478Z",
     "start_time": "2022-06-11T00:56:53.258517Z"
    }
   },
   "outputs": [
    {
     "data": {
      "text/html": [
       "<div>\n",
       "<style scoped>\n",
       "    .dataframe tbody tr th:only-of-type {\n",
       "        vertical-align: middle;\n",
       "    }\n",
       "\n",
       "    .dataframe tbody tr th {\n",
       "        vertical-align: top;\n",
       "    }\n",
       "\n",
       "    .dataframe thead th {\n",
       "        text-align: right;\n",
       "    }\n",
       "</style>\n",
       "<table border=\"1\" class=\"dataframe\">\n",
       "  <thead>\n",
       "    <tr style=\"text-align: right;\">\n",
       "      <th></th>\n",
       "      <th>num_lin</th>\n",
       "      <th>nome_lin</th>\n",
       "      <th>long</th>\n",
       "      <th>lat</th>\n",
       "      <th>estacao_upp</th>\n",
       "      <th>link</th>\n",
       "    </tr>\n",
       "  </thead>\n",
       "  <tbody>\n",
       "    <tr>\n",
       "      <th>49</th>\n",
       "      <td>8</td>\n",
       "      <td>DIAMANTE</td>\n",
       "      <td>-46.983711</td>\n",
       "      <td>-23.530541</td>\n",
       "      <td>AMADOR BUENO</td>\n",
       "      <td>SANTA RITA</td>\n",
       "    </tr>\n",
       "    <tr>\n",
       "      <th>119</th>\n",
       "      <td>7</td>\n",
       "      <td>RUBI</td>\n",
       "      <td>-46.872035</td>\n",
       "      <td>-23.195382</td>\n",
       "      <td>JUNDIAI</td>\n",
       "      <td>VARZEA PAULISTA</td>\n",
       "    </tr>\n",
       "    <tr>\n",
       "      <th>120</th>\n",
       "      <td>7</td>\n",
       "      <td>RUBI</td>\n",
       "      <td>-46.828941</td>\n",
       "      <td>-23.208851</td>\n",
       "      <td>VARZEA PAULISTA</td>\n",
       "      <td>CAMPO LIMPO PAULISTA</td>\n",
       "    </tr>\n",
       "    <tr>\n",
       "      <th>126</th>\n",
       "      <td>7</td>\n",
       "      <td>RUBI</td>\n",
       "      <td>-46.751528</td>\n",
       "      <td>-23.366166</td>\n",
       "      <td>CAIEIRAS</td>\n",
       "      <td>PERUS</td>\n",
       "    </tr>\n",
       "    <tr>\n",
       "      <th>162</th>\n",
       "      <td>10</td>\n",
       "      <td>TURQUESA</td>\n",
       "      <td>-46.414767</td>\n",
       "      <td>-23.713632</td>\n",
       "      <td>ANTONIO BESPALEC RIBEIRAO PIRES</td>\n",
       "      <td>RIO GRANDE DA SERRA</td>\n",
       "    </tr>\n",
       "    <tr>\n",
       "      <th>163</th>\n",
       "      <td>10</td>\n",
       "      <td>TURQUESA</td>\n",
       "      <td>-46.391864</td>\n",
       "      <td>-23.743306</td>\n",
       "      <td>RIO GRANDE DA SERRA</td>\n",
       "      <td>RIO GRANDE DA SERRA</td>\n",
       "    </tr>\n",
       "  </tbody>\n",
       "</table>\n",
       "</div>"
      ],
      "text/plain": [
       "     num_lin  nome_lin       long        lat                      estacao_upp  \\\n",
       "49         8  DIAMANTE -46.983711 -23.530541                     AMADOR BUENO   \n",
       "119        7      RUBI -46.872035 -23.195382                          JUNDIAI   \n",
       "120        7      RUBI -46.828941 -23.208851                  VARZEA PAULISTA   \n",
       "126        7      RUBI -46.751528 -23.366166                         CAIEIRAS   \n",
       "162       10  TURQUESA -46.414767 -23.713632  ANTONIO BESPALEC RIBEIRAO PIRES   \n",
       "163       10  TURQUESA -46.391864 -23.743306              RIO GRANDE DA SERRA   \n",
       "\n",
       "                     link  \n",
       "49             SANTA RITA  \n",
       "119       VARZEA PAULISTA  \n",
       "120  CAMPO LIMPO PAULISTA  \n",
       "126                 PERUS  \n",
       "162   RIO GRANDE DA SERRA  \n",
       "163   RIO GRANDE DA SERRA  "
      ]
     },
     "execution_count": 23,
     "metadata": {},
     "output_type": "execute_result"
    }
   ],
   "source": [
    "df.loc[df_resposta.query(\"cluster == -1\").index]"
   ]
  },
  {
   "cell_type": "markdown",
   "metadata": {},
   "source": [
    "Vamos usar a [distância de Haversine](https://scikit-learn.org/stable/modules/generated/sklearn.metrics.pairwise.haversine_distances.html)\n",
    "\n",
    "Importante: primeiro ponto é a latitude, segundo é a longitude!"
   ]
  },
  {
   "cell_type": "markdown",
   "metadata": {},
   "source": [
    "Com o k-means..."
   ]
  },
  {
   "cell_type": "code",
   "execution_count": 24,
   "metadata": {
    "ExecuteTime": {
     "end_time": "2022-06-11T00:57:37.802973Z",
     "start_time": "2022-06-11T00:57:37.784025Z"
    }
   },
   "outputs": [],
   "source": [
    "X_sp_kmeans = X_sp.copy()"
   ]
  },
  {
   "cell_type": "code",
   "execution_count": 25,
   "metadata": {
    "ExecuteTime": {
     "end_time": "2022-06-11T00:57:55.074035Z",
     "start_time": "2022-06-11T00:57:54.666702Z"
    }
   },
   "outputs": [
    {
     "data": {
      "image/png": "[encoded data removed]",
      "text/plain": [
       "<Figure size 1152x576 with 1 Axes>"
      ]
     },
     "metadata": {
      "needs_background": "light"
     },
     "output_type": "display_data"
    }
   ],
   "source": [
    "from sklearn.cluster import KMeans\n",
    "\n",
    "km = KMeans(n_clusters=4).fit(X_sp)\n",
    "\n",
    "X_sp_kmeans[\"cluster\"] = km.labels_\n",
    "\n",
    "#################################################################\n",
    "\n",
    "plt.figure(figsize=(16, 8))\n",
    "\n",
    "n_cluster = X_sp_kmeans[\"cluster\"].nunique()\n",
    "\n",
    "plt.title(f\"Número de clusters: {n_cluster}\")\n",
    "\n",
    "sns.scatterplot(data=X_sp_kmeans, x=\"long\", y=\"lat\", hue=\"cluster\", palette=\"viridis\")\n",
    "\n",
    "plt.gca().set_aspect('equal', adjustable='box')\n",
    "\n",
    "plt.show()"
   ]
  },
  {
   "cell_type": "code",
   "execution_count": null,
   "metadata": {},
   "outputs": [],
   "source": []
  }
 ],
 "metadata": {
  "kernelspec": {
   "display_name": "Python 3 (ipykernel)",
   "language": "python",
   "name": "python3"
  },
  "language_info": {
   "codemirror_mode": {
    "name": "ipython",
    "version": 3
   },
   "file_extension": ".py",
   "mimetype": "text/x-python",
   "name": "python",
   "nbconvert_exporter": "python",
   "pygments_lexer": "ipython3",
   "version": "3.10.4"
  },
  "varInspector": {
   "cols": {
    "lenName": 16,
    "lenType": 16,
    "lenVar": 40
   },
   "kernels_config": {
    "python": {
     "delete_cmd_postfix": "",
     "delete_cmd_prefix": "del ",
     "library": "var_list.py",
     "varRefreshCmd": "print(var_dic_list())"
    },
    "r": {
     "delete_cmd_postfix": ") ",
     "delete_cmd_prefix": "rm(",
     "library": "var_list.r",
     "varRefreshCmd": "cat(var_dic_list()) "
    }
   },
   "types_to_exclude": [
    "module",
    "function",
    "builtin_function_or_method",
    "instance",
    "_Feature"
   ],
   "window_display": false
  }
 },
 "nbformat": 4,
 "nbformat_minor": 4
}
